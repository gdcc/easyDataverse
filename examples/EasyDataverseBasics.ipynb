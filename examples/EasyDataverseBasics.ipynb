{
 "cells": [
  {
   "cell_type": "markdown",
   "metadata": {},
   "source": [
    "<a href=\"https://colab.research.google.com/github/gdcc/easyDataverse/blob/main/examples/EasyDataverseBasics.ipynb\" target=\"_parent\"><img src=\"https://colab.research.google.com/assets/colab-badge.svg\" alt=\"Open In Colab\"/></a>"
   ]
  },
  {
   "cell_type": "markdown",
   "metadata": {},
   "source": [
    "# EasyDataverse Basics\n",
    "\n",
    "Welcome to this introductory notebook that demonstrates the basic features of EasyDataverse. EasyDataverse is a user-friendly tool that aims to simplify the process of managing data with Dataverse. The tool utilizes Dataverse's API-first philosophy and offers a GUI-like experience when interacting with datasets. It is backed by Dataverse's powerful Native API, providing an efficient, streamlined, and simplified data management solution.\n",
    "\n",
    "Within this notebook you will learn more about the following topics:\n",
    "\n",
    "* Connecting to a Dataverse instance\n",
    "* Gathering metadata block information\n",
    "* Creating a dataset and adding metadata\n",
    "* File uploads (S3 and native)\n",
    "* Fetching and updating datasets"
   ]
  },
  {
   "cell_type": "code",
   "execution_count": null,
   "metadata": {
    "id": "RJyh_UW6jXZq"
   },
   "outputs": [],
   "source": [
    "# Install easyDataverse\n",
    "!pip install easyDataverse\n",
    "\n",
    "# Download data\n",
    "!wget https://github.com/gdcc/easyDataverse/raw/main/examples/data/README.md\n",
    "!wget https://github.com/gdcc/easyDataverse/raw/main/examples/data/anscomb.json\n",
    "!wget https://github.com/gdcc/easyDataverse/raw/main/examples/data/mnist_test.csv\n",
    "!wget https://github.com/gdcc/easyDataverse/raw/main/examples/data/mnist_train_small.csv "
   ]
  },
  {
   "cell_type": "code",
   "execution_count": 1,
   "metadata": {
    "id": "a94u6C5Hjd2n",
    "tags": []
   },
   "outputs": [],
   "source": [
    "import rich # For printing\n",
    "\n",
    "from easyDataverse import Dataverse"
   ]
  },
  {
   "cell_type": "markdown",
   "metadata": {},
   "source": [
    "### Connecting to Dataverse\n",
    "\n",
    "To begin, you can establish a connection to a Dataverse by using the `Dataverse` class. Within the connection process, EasyDataverse will gather all available metadata blocks and convert them into PyDantic data types. These data types follow a strict typing system to ensure that any data passed in complies with the expectations of your instance. These types will come in handy later when creating datasets."
   ]
  },
  {
   "cell_type": "code",
   "execution_count": 4,
   "metadata": {
    "colab": {
     "base_uri": "https://localhost:8080/",
     "height": 89,
     "referenced_widgets": [
      "07d44e00e028407280d9f0b294f2052d",
      "bb5e7f487b0c43508654a89bc7dba173"
     ]
    },
    "id": "pRhgpHwijp6d",
    "outputId": "6dffd30e-e315-4993-ac24-087b5eb4443b",
    "tags": []
   },
   "outputs": [
    {
     "data": {
      "application/vnd.jupyter.widget-view+json": {
       "model_id": "e19a1b5bec6b44a58972f255cba2bec2",
       "version_major": 2,
       "version_minor": 0
      },
      "text/plain": [
       "Output()"
      ]
     },
     "metadata": {},
     "output_type": "display_data"
    },
    {
     "name": "stdout",
     "output_type": "stream",
     "text": [
      "\n",
      "\n"
     ]
    },
    {
     "data": {
      "text/html": [
       "<pre style=\"white-space:pre;overflow-x:auto;line-height:normal;font-family:Menlo,'DejaVu Sans Mono',consolas,'Courier New',monospace\">🎉 <span style=\"font-weight: bold\">Connected to </span><span style=\"color: #008000; text-decoration-color: #008000; font-weight: bold\">'https://demo.dataverse.org/'</span>\n",
       "</pre>\n"
      ],
      "text/plain": [
       "🎉 \u001b[1mConnected to \u001b[0m\u001b[1;32m'https://demo.dataverse.org/'\u001b[0m\n"
      ]
     },
     "metadata": {},
     "output_type": "display_data"
    },
    {
     "data": {
      "text/html": [
       "<pre style=\"white-space:pre;overflow-x:auto;line-height:normal;font-family:Menlo,'DejaVu Sans Mono',consolas,'Courier New',monospace\"></pre>\n"
      ],
      "text/plain": []
     },
     "metadata": {},
     "output_type": "display_data"
    },
    {
     "data": {
      "text/html": [
       "<pre style=\"white-space:pre;overflow-x:auto;line-height:normal;font-family:Menlo,'DejaVu Sans Mono',consolas,'Courier New',monospace\">\n",
       "</pre>\n"
      ],
      "text/plain": [
       "\n"
      ]
     },
     "metadata": {},
     "output_type": "display_data"
    }
   ],
   "source": [
    "# Connect to a Dataverse instance of choice\n",
    "dataverse = Dataverse(\n",
    "    server_url='https://demo.dataverse.org', # @param {type:\"string\"}\n",
    "    api_token='<API_TOKEN>' # @param {type:\"string\"}\n",
    ")"
   ]
  },
  {
   "cell_type": "markdown",
   "metadata": {},
   "source": [
    "### Metadata block fields\n",
    "\n",
    "It's possible that you might not be familiar with all the metadata fields that are available, but you don't want to keep switching back and forth between the Graphical User Interface (GUI) and the notebook. Fortunately, EasyDataverse offers a solution to this problem by providing a `list_metadatablocks` method that allows you to check what metadata blocks are available. This method has two modes of functionality:\n",
    "\n",
    "* `detailed=False` - Lists the names of the available metadata blocks\n",
    "* `detailed=True` - Lists each metadata block, its fields and available add-methods"
   ]
  },
  {
   "cell_type": "code",
   "execution_count": 5,
   "metadata": {
    "colab": {
     "base_uri": "https://localhost:8080/"
    },
    "id": "E6DHAtDXkBD8",
    "outputId": "da142cec-9763-4d3a-dfbe-04775bafd1d5",
    "tags": []
   },
   "outputs": [
    {
     "name": "stdout",
     "output_type": "stream",
     "text": [
      "geospatial\n",
      "socialscience\n",
      "astrophysics\n",
      "biomedical\n",
      "journal\n",
      "customMRA\n",
      "customGSD\n",
      "customARCS\n",
      "customPSRI\n",
      "customPSI\n",
      "customCHIA\n",
      "customDigaai\n",
      "citation\n",
      "customSAEF\n"
     ]
    }
   ],
   "source": [
    "# Mode 1: Only names\n",
    "dataverse.list_metadatablocks(detailed=False)\n",
    "\n",
    "# Mode 2: Names, fields and methods \n",
    "# dataverse.list_metadatablocks(detailed=True)"
   ]
  },
  {
   "cell_type": "markdown",
   "metadata": {},
   "source": [
    "----"
   ]
  },
  {
   "cell_type": "markdown",
   "metadata": {},
   "source": [
    "### Dataset creation and population\n",
    "\n",
    "Our next step is to establish a new dataset and add relevant metadata and files to it. Once we connect to the Dataverse instance, we can use the `dataverse` object that we had previously created to generate new datasets. The `create_dataset` method will return a `Dataset` object that comes with all the available metadata blocks from the connected instance."
   ]
  },
  {
   "cell_type": "code",
   "execution_count": 63,
   "metadata": {
    "colab": {
     "base_uri": "https://localhost:8080/"
    },
    "id": "8yoTmGRLkKJO",
    "outputId": "c19bb999-bbaa-4d34-b64c-78e372848354",
    "tags": []
   },
   "outputs": [
    {
     "name": "stdout",
     "output_type": "stream",
     "text": [
      "metadatablocks: {}\n",
      "\n"
     ]
    }
   ],
   "source": [
    "dataset = dataverse.create_dataset()\n",
    "\n",
    "print(dataset) # Should be empty by now"
   ]
  },
  {
   "cell_type": "markdown",
   "metadata": {},
   "source": [
    "Before we populate the metadata of this dataset, we should check what information is available. Each metadata block can be accessed as an attribute of the `dataset` instance. Just like we can check the content of all metadata blocks, we can also inspect the content of individual instances. Specifically, we will inspect the content of the `geospatial` metadata block."
   ]
  },
  {
   "cell_type": "code",
   "execution_count": 64,
   "metadata": {
    "colab": {
     "base_uri": "https://localhost:8080/",
     "height": 289
    },
    "id": "AkF6K1Kgks29",
    "outputId": "d54aef7a-a83d-448b-c768-6be96caf5ceb",
    "tags": []
   },
   "outputs": [
    {
     "data": {
      "text/html": [
       "<pre style=\"white-space:pre;overflow-x:auto;line-height:normal;font-family:Menlo,'DejaVu Sans Mono',consolas,'Courier New',monospace\"><span style=\"color: #00ffd7; text-decoration-color: #00ffd7; font-weight: bold\">Geospatial</span>\n",
       "├── <span style=\"font-weight: bold\">unit</span>: <span style=\"font-style: italic\">str</span>\n",
       "├── <span style=\"font-weight: bold\">coverage</span>: <span style=\"font-style: italic\">GeographicCoverage</span>\n",
       "│   ├── country\n",
       "│   ├── state\n",
       "│   ├── city\n",
       "│   ╰── other_geographic_coverage\n",
       "├── <span style=\"font-weight: bold\">bounding_box</span>: <span style=\"font-style: italic\">GeographicBoundingBox</span>\n",
       "│   ├── west_longitude\n",
       "│   ├── east_longitude\n",
       "│   ├── north_latitude\n",
       "│   ╰── south_latitude\n",
       "╰── <span style=\"font-weight: bold; font-style: italic\">Add Functions</span>\n",
       "    ├── add_coverage\n",
       "    ╰── add_bounding_box\n",
       "</pre>\n"
      ],
      "text/plain": [
       "\u001b[1;38;5;50mGeospatial\u001b[0m\n",
       "├── \u001b[1munit\u001b[0m: \u001b[3mstr\u001b[0m\n",
       "├── \u001b[1mcoverage\u001b[0m: \u001b[3mGeographicCoverage\u001b[0m\n",
       "│   ├── country\n",
       "│   ├── state\n",
       "│   ├── city\n",
       "│   ╰── other_geographic_coverage\n",
       "├── \u001b[1mbounding_box\u001b[0m: \u001b[3mGeographicBoundingBox\u001b[0m\n",
       "│   ├── west_longitude\n",
       "│   ├── east_longitude\n",
       "│   ├── north_latitude\n",
       "│   ╰── south_latitude\n",
       "╰── \u001b[1;3mAdd Functions\u001b[0m\n",
       "    ├── add_coverage\n",
       "    ╰── add_bounding_box\n"
      ]
     },
     "metadata": {},
     "output_type": "display_data"
    }
   ],
   "source": [
    "dataset.geospatial.info()"
   ]
  },
  {
   "cell_type": "markdown",
   "metadata": {},
   "source": [
    "Once we have a clear understanding of the fields available, we can add values to the corresponding attributes/fields in the metadata block. For lists of compound objects or sub-objects, we can add them using dedicated add-methods that will be demonstrated below."
   ]
  },
  {
   "cell_type": "code",
   "execution_count": 65,
   "metadata": {
    "colab": {
     "base_uri": "https://localhost:8080/"
    },
    "id": "QZN2UT4QlM65",
    "outputId": "1e170627-8123-4348-9a8a-7b693f9d3e73",
    "tags": []
   },
   "outputs": [
    {
     "name": "stdout",
     "output_type": "stream",
     "text": [
      "metadatablocks:\n",
      "  geospatial:\n",
      "    geographicUnit:\n",
      "      - unit\n",
      "    geographicCoverage:\n",
      "      - country: Germany\n",
      "        state: BW\n",
      "        city: Stuttgart\n",
      "\n"
     ]
    }
   ],
   "source": [
    "# Singular fields\n",
    "dataset.geospatial.unit = [\"unit\"]\n",
    "\n",
    "# Adding to list of compounds\n",
    "dataset.geospatial.add_coverage(\n",
    "    country=\"Germany\",\n",
    "    state=\"BW\",\n",
    "    city=\"Stuttgart\",\n",
    ")\n",
    "\n",
    "print(dataset)"
   ]
  },
  {
   "cell_type": "markdown",
   "metadata": {},
   "source": [
    "### Data validation\n",
    "\n",
    "You may have noticed that instead of setting a single unit, we have provided a list of units to the `unit` field. This is because the metadata block expects this field to be a multiple of text. As the input we supplied meets this requirement, we did not encounter any problems. Similarly, the `country` field of the added `coverage` compound also expects a value from a controlled vocabulary.\n",
    "\n",
    "EasyDataverse provides data types that follow a strict typing system. This system is enforced during initialization and assignment, which helps to prevent errors during upload and enables developers to identify non-compliant data. Let's attempt to intentionally provide incorrect input types and see how the system responds."
   ]
  },
  {
   "cell_type": "code",
   "execution_count": 66,
   "metadata": {
    "colab": {
     "base_uri": "https://localhost:8080/",
     "height": 705
    },
    "id": "7t0pNNOBmoje",
    "outputId": "c7e0bb62-60dd-4e14-f81e-2ab8c618f17d",
    "tags": []
   },
   "outputs": [
    {
     "data": {
      "text/html": [
       "<pre style=\"white-space:pre;overflow-x:auto;line-height:normal;font-family:Menlo,'DejaVu Sans Mono',consolas,'Courier New',monospace\"><span style=\"color: #008080; text-decoration-color: #008080; font-weight: bold\">1</span> validation error for Geospatial\n",
       "unit\n",
       "  Input should be a valid list <span style=\"font-weight: bold\">[</span><span style=\"color: #808000; text-decoration-color: #808000\">type</span>=<span style=\"color: #800080; text-decoration-color: #800080\">list_type</span>, <span style=\"color: #808000; text-decoration-color: #808000\">input_value</span>=<span style=\"color: #008000; text-decoration-color: #008000\">'unit'</span>, <span style=\"color: #808000; text-decoration-color: #808000\">input_type</span>=<span style=\"color: #800080; text-decoration-color: #800080\">str</span><span style=\"font-weight: bold\">]</span>\n",
       "    For further information visit <span style=\"color: #0000ff; text-decoration-color: #0000ff; text-decoration: underline\">https://errors.pydantic.dev/2.7/v/list_type</span>\n",
       "</pre>\n"
      ],
      "text/plain": [
       "\u001b[1;36m1\u001b[0m validation error for Geospatial\n",
       "unit\n",
       "  Input should be a valid list \u001b[1m[\u001b[0m\u001b[33mtype\u001b[0m=\u001b[35mlist_type\u001b[0m, \u001b[33minput_value\u001b[0m=\u001b[32m'unit'\u001b[0m, \u001b[33minput_type\u001b[0m=\u001b[35mstr\u001b[0m\u001b[1m]\u001b[0m\n",
       "    For further information visit \u001b[4;94mhttps://errors.pydantic.dev/2.7/v/list_type\u001b[0m\n"
      ]
     },
     "metadata": {},
     "output_type": "display_data"
    },
    {
     "data": {
      "text/html": [
       "<pre style=\"white-space:pre;overflow-x:auto;line-height:normal;font-family:Menlo,'DejaVu Sans Mono',consolas,'Courier New',monospace\"><span style=\"color: #008080; text-decoration-color: #008080; font-weight: bold\">1</span> validation error for GeographicCoverage\n",
       "country\n",
       "  Input should be <span style=\"color: #008000; text-decoration-color: #008000\">'Afghanistan'</span>, <span style=\"color: #008000; text-decoration-color: #008000\">'Albania'</span>, <span style=\"color: #008000; text-decoration-color: #008000\">'Algeria'</span>, <span style=\"color: #008000; text-decoration-color: #008000\">'American Samoa'</span>, <span style=\"color: #008000; text-decoration-color: #008000\">'Andorra'</span>, <span style=\"color: #008000; text-decoration-color: #008000\">'Angola'</span>, <span style=\"color: #008000; text-decoration-color: #008000\">'Anguilla'</span>, \n",
       "<span style=\"color: #008000; text-decoration-color: #008000\">'Antarctica'</span>, <span style=\"color: #008000; text-decoration-color: #008000\">'Antigua and Barbuda'</span>, <span style=\"color: #008000; text-decoration-color: #008000\">'Argentina'</span>, <span style=\"color: #008000; text-decoration-color: #008000\">'Armenia'</span>, <span style=\"color: #008000; text-decoration-color: #008000\">'Aruba'</span>, <span style=\"color: #008000; text-decoration-color: #008000\">'Australia'</span>, <span style=\"color: #008000; text-decoration-color: #008000\">'Austria'</span>, <span style=\"color: #008000; text-decoration-color: #008000\">'Azerbaijan'</span>, \n",
       "<span style=\"color: #008000; text-decoration-color: #008000\">'Bahamas'</span>, <span style=\"color: #008000; text-decoration-color: #008000\">'Bahrain'</span>, <span style=\"color: #008000; text-decoration-color: #008000\">'Bangladesh'</span>, <span style=\"color: #008000; text-decoration-color: #008000\">'Barbados'</span>, <span style=\"color: #008000; text-decoration-color: #008000\">'Belarus'</span>, <span style=\"color: #008000; text-decoration-color: #008000\">'Belgium'</span>, <span style=\"color: #008000; text-decoration-color: #008000\">'Belize'</span>, <span style=\"color: #008000; text-decoration-color: #008000\">'Benin'</span>, <span style=\"color: #008000; text-decoration-color: #008000\">'Bermuda'</span>, <span style=\"color: #008000; text-decoration-color: #008000\">'Bhutan'</span>, \n",
       "<span style=\"color: #008000; text-decoration-color: #008000\">'Bolivia, Plurinational State of'</span>, <span style=\"color: #008000; text-decoration-color: #008000\">'Bonaire, Sint Eustatius and Saba'</span>, <span style=\"color: #008000; text-decoration-color: #008000\">'Bosnia and Herzegovina'</span>, <span style=\"color: #008000; text-decoration-color: #008000\">'Botswana'</span>, \n",
       "<span style=\"color: #008000; text-decoration-color: #008000\">'Bouvet Island'</span>, <span style=\"color: #008000; text-decoration-color: #008000\">'Brazil'</span>, <span style=\"color: #008000; text-decoration-color: #008000\">'British Indian Ocean Territory'</span>, <span style=\"color: #008000; text-decoration-color: #008000\">'Brunei Darussalam'</span>, <span style=\"color: #008000; text-decoration-color: #008000\">'Bulgaria'</span>, <span style=\"color: #008000; text-decoration-color: #008000\">'Burkina Faso'</span>, \n",
       "<span style=\"color: #008000; text-decoration-color: #008000\">'Burundi'</span>, <span style=\"color: #008000; text-decoration-color: #008000\">'Cambodia'</span>, <span style=\"color: #008000; text-decoration-color: #008000\">'Cameroon'</span>, <span style=\"color: #008000; text-decoration-color: #008000\">'Canada'</span>, <span style=\"color: #008000; text-decoration-color: #008000\">'Cape Verde'</span>, <span style=\"color: #008000; text-decoration-color: #008000\">'Cayman Islands'</span>, <span style=\"color: #008000; text-decoration-color: #008000\">'Central African Republic'</span>, <span style=\"color: #008000; text-decoration-color: #008000\">'Chad'</span>, \n",
       "<span style=\"color: #008000; text-decoration-color: #008000\">'Chile'</span>, <span style=\"color: #008000; text-decoration-color: #008000\">'China'</span>, <span style=\"color: #008000; text-decoration-color: #008000\">'Christmas Island'</span>, <span style=\"color: #008000; text-decoration-color: #008000\">'Cocos (Keeling) Islands'</span>, <span style=\"color: #008000; text-decoration-color: #008000\">'Colombia'</span>, <span style=\"color: #008000; text-decoration-color: #008000\">'Comoros'</span>, <span style=\"color: #008000; text-decoration-color: #008000\">'Congo'</span>, <span style=\"color: #008000; text-decoration-color: #008000\">'Congo, the </span>\n",
       "<span style=\"color: #008000; text-decoration-color: #008000\">Democratic Republic of the'</span>, <span style=\"color: #008000; text-decoration-color: #008000\">'Cook Islands'</span>, <span style=\"color: #008000; text-decoration-color: #008000\">'Costa Rica'</span>, <span style=\"color: #008000; text-decoration-color: #008000\">'Croatia'</span>, <span style=\"color: #008000; text-decoration-color: #008000\">'Cuba'</span>, <span style=\"color: #008000; text-decoration-color: #008000\">'Curaçao'</span>, <span style=\"color: #008000; text-decoration-color: #008000\">'Cyprus'</span>, <span style=\"color: #008000; text-decoration-color: #008000\">'Czech </span>\n",
       "<span style=\"color: #008000; text-decoration-color: #008000\">Republic'</span>, <span style=\"color: #008000; text-decoration-color: #008000\">\"Côte d'Ivoire\"</span>, <span style=\"color: #008000; text-decoration-color: #008000\">'Denmark'</span>, <span style=\"color: #008000; text-decoration-color: #008000\">'Djibouti'</span>, <span style=\"color: #008000; text-decoration-color: #008000\">'Dominica'</span>, <span style=\"color: #008000; text-decoration-color: #008000\">'Dominican Republic'</span>, <span style=\"color: #008000; text-decoration-color: #008000\">'Ecuador'</span>, <span style=\"color: #008000; text-decoration-color: #008000\">'Egypt'</span>, <span style=\"color: #008000; text-decoration-color: #008000\">'El </span>\n",
       "<span style=\"color: #008000; text-decoration-color: #008000\">Salvador'</span>, <span style=\"color: #008000; text-decoration-color: #008000\">'Equatorial Guinea'</span>, <span style=\"color: #008000; text-decoration-color: #008000\">'Eritrea'</span>, <span style=\"color: #008000; text-decoration-color: #008000\">'Estonia'</span>, <span style=\"color: #008000; text-decoration-color: #008000\">'Ethiopia'</span>, <span style=\"color: #008000; text-decoration-color: #008000\">'Falkland Islands (Malvinas)'</span>, <span style=\"color: #008000; text-decoration-color: #008000\">'Faroe Islands'</span>, \n",
       "<span style=\"color: #008000; text-decoration-color: #008000\">'Fiji'</span>, <span style=\"color: #008000; text-decoration-color: #008000\">'Finland'</span>, <span style=\"color: #008000; text-decoration-color: #008000\">'France'</span>, <span style=\"color: #008000; text-decoration-color: #008000\">'French Guiana'</span>, <span style=\"color: #008000; text-decoration-color: #008000\">'French Polynesia'</span>, <span style=\"color: #008000; text-decoration-color: #008000\">'French Southern Territories'</span>, <span style=\"color: #008000; text-decoration-color: #008000\">'Gabon'</span>, <span style=\"color: #008000; text-decoration-color: #008000\">'Gambia'</span>,\n",
       "<span style=\"color: #008000; text-decoration-color: #008000\">'Georgia'</span>, <span style=\"color: #008000; text-decoration-color: #008000\">'Germany'</span>, <span style=\"color: #008000; text-decoration-color: #008000\">'Ghana'</span>, <span style=\"color: #008000; text-decoration-color: #008000\">'Gibraltar'</span>, <span style=\"color: #008000; text-decoration-color: #008000\">'Greece'</span>, <span style=\"color: #008000; text-decoration-color: #008000\">'Greenland'</span>, <span style=\"color: #008000; text-decoration-color: #008000\">'Grenada'</span>, <span style=\"color: #008000; text-decoration-color: #008000\">'Guadeloupe'</span>, <span style=\"color: #008000; text-decoration-color: #008000\">'Guam'</span>, <span style=\"color: #008000; text-decoration-color: #008000\">'Guatemala'</span>, \n",
       "<span style=\"color: #008000; text-decoration-color: #008000\">'Guernsey'</span>, <span style=\"color: #008000; text-decoration-color: #008000\">'Guinea'</span>, <span style=\"color: #008000; text-decoration-color: #008000\">'Guinea-Bissau'</span>, <span style=\"color: #008000; text-decoration-color: #008000\">'Guyana'</span>, <span style=\"color: #008000; text-decoration-color: #008000\">'Haiti'</span>, <span style=\"color: #008000; text-decoration-color: #008000\">'Heard Island and Mcdonald Islands'</span>, <span style=\"color: #008000; text-decoration-color: #008000\">'Holy See (Vatican </span>\n",
       "<span style=\"color: #008000; text-decoration-color: #008000\">City State)'</span>, <span style=\"color: #008000; text-decoration-color: #008000\">'Honduras'</span>, <span style=\"color: #008000; text-decoration-color: #008000\">'Hong Kong'</span>, <span style=\"color: #008000; text-decoration-color: #008000\">'Hungary'</span>, <span style=\"color: #008000; text-decoration-color: #008000\">'Iceland'</span>, <span style=\"color: #008000; text-decoration-color: #008000\">'India'</span>, <span style=\"color: #008000; text-decoration-color: #008000\">'Indonesia'</span>, <span style=\"color: #008000; text-decoration-color: #008000\">'Iran, Islamic Republic of'</span>, \n",
       "<span style=\"color: #008000; text-decoration-color: #008000\">'Iraq'</span>, <span style=\"color: #008000; text-decoration-color: #008000\">'Ireland'</span>, <span style=\"color: #008000; text-decoration-color: #008000\">'Isle of Man'</span>, <span style=\"color: #008000; text-decoration-color: #008000\">'Israel'</span>, <span style=\"color: #008000; text-decoration-color: #008000\">'Italy'</span>, <span style=\"color: #008000; text-decoration-color: #008000\">'Jamaica'</span>, <span style=\"color: #008000; text-decoration-color: #008000\">'Japan'</span>, <span style=\"color: #008000; text-decoration-color: #008000\">'Jersey'</span>, <span style=\"color: #008000; text-decoration-color: #008000\">'Jordan'</span>, <span style=\"color: #008000; text-decoration-color: #008000\">'Kazakhstan'</span>, <span style=\"color: #008000; text-decoration-color: #008000\">'Kenya'</span>,\n",
       "<span style=\"color: #008000; text-decoration-color: #008000\">'Kiribati'</span>, <span style=\"color: #008000; text-decoration-color: #008000\">\"Korea, Democratic People's Republic of\"</span>, <span style=\"color: #008000; text-decoration-color: #008000\">'Korea, Republic of'</span>, <span style=\"color: #008000; text-decoration-color: #008000\">'Kuwait'</span>, <span style=\"color: #008000; text-decoration-color: #008000\">'Kyrgyzstan'</span>, <span style=\"color: #008000; text-decoration-color: #008000\">\"Lao People's </span>\n",
       "<span style=\"color: #008000; text-decoration-color: #008000\">Democratic Republic\"</span>, <span style=\"color: #008000; text-decoration-color: #008000\">'Latvia'</span>, <span style=\"color: #008000; text-decoration-color: #008000\">'Lebanon'</span>, <span style=\"color: #008000; text-decoration-color: #008000\">'Lesotho'</span>, <span style=\"color: #008000; text-decoration-color: #008000\">'Liberia'</span>, <span style=\"color: #008000; text-decoration-color: #008000\">'Libya'</span>, <span style=\"color: #008000; text-decoration-color: #008000\">'Liechtenstein'</span>, <span style=\"color: #008000; text-decoration-color: #008000\">'Lithuania'</span>, \n",
       "<span style=\"color: #008000; text-decoration-color: #008000\">'Luxembourg'</span>, <span style=\"color: #008000; text-decoration-color: #008000\">'Macao'</span>, <span style=\"color: #008000; text-decoration-color: #008000\">'Macedonia, the Former Yugoslav Republic of'</span>, <span style=\"color: #008000; text-decoration-color: #008000\">'Madagascar'</span>, <span style=\"color: #008000; text-decoration-color: #008000\">'Malawi'</span>, <span style=\"color: #008000; text-decoration-color: #008000\">'Malaysia'</span>, \n",
       "<span style=\"color: #008000; text-decoration-color: #008000\">'Maldives'</span>, <span style=\"color: #008000; text-decoration-color: #008000\">'Mali'</span>, <span style=\"color: #008000; text-decoration-color: #008000\">'Malta'</span>, <span style=\"color: #008000; text-decoration-color: #008000\">'Marshall Islands'</span>, <span style=\"color: #008000; text-decoration-color: #008000\">'Martinique'</span>, <span style=\"color: #008000; text-decoration-color: #008000\">'Mauritania'</span>, <span style=\"color: #008000; text-decoration-color: #008000\">'Mauritius'</span>, <span style=\"color: #008000; text-decoration-color: #008000\">'Mayotte'</span>, <span style=\"color: #008000; text-decoration-color: #008000\">'Mexico'</span>, \n",
       "<span style=\"color: #008000; text-decoration-color: #008000\">'Micronesia, Federated States of'</span>, <span style=\"color: #008000; text-decoration-color: #008000\">'Moldova, Republic of'</span>, <span style=\"color: #008000; text-decoration-color: #008000\">'Monaco'</span>, <span style=\"color: #008000; text-decoration-color: #008000\">'Mongolia'</span>, <span style=\"color: #008000; text-decoration-color: #008000\">'Montenegro'</span>, <span style=\"color: #008000; text-decoration-color: #008000\">'Montserrat'</span>, \n",
       "<span style=\"color: #008000; text-decoration-color: #008000\">'Morocco'</span>, <span style=\"color: #008000; text-decoration-color: #008000\">'Mozambique'</span>, <span style=\"color: #008000; text-decoration-color: #008000\">'Myanmar'</span>, <span style=\"color: #008000; text-decoration-color: #008000\">'Namibia'</span>, <span style=\"color: #008000; text-decoration-color: #008000\">'Nauru'</span>, <span style=\"color: #008000; text-decoration-color: #008000\">'Nepal'</span>, <span style=\"color: #008000; text-decoration-color: #008000\">'Netherlands'</span>, <span style=\"color: #008000; text-decoration-color: #008000\">'New Caledonia'</span>, <span style=\"color: #008000; text-decoration-color: #008000\">'New Zealand'</span>, \n",
       "<span style=\"color: #008000; text-decoration-color: #008000\">'Nicaragua'</span>, <span style=\"color: #008000; text-decoration-color: #008000\">'Niger'</span>, <span style=\"color: #008000; text-decoration-color: #008000\">'Nigeria'</span>, <span style=\"color: #008000; text-decoration-color: #008000\">'Niue'</span>, <span style=\"color: #008000; text-decoration-color: #008000\">'Norfolk Island'</span>, <span style=\"color: #008000; text-decoration-color: #008000\">'Northern Mariana Islands'</span>, <span style=\"color: #008000; text-decoration-color: #008000\">'Norway'</span>, <span style=\"color: #008000; text-decoration-color: #008000\">'Oman'</span>, \n",
       "<span style=\"color: #008000; text-decoration-color: #008000\">'Pakistan'</span>, <span style=\"color: #008000; text-decoration-color: #008000\">'Palau'</span>, <span style=\"color: #008000; text-decoration-color: #008000\">'Palestine, State of'</span>, <span style=\"color: #008000; text-decoration-color: #008000\">'Panama'</span>, <span style=\"color: #008000; text-decoration-color: #008000\">'Papua New Guinea'</span>, <span style=\"color: #008000; text-decoration-color: #008000\">'Paraguay'</span>, <span style=\"color: #008000; text-decoration-color: #008000\">'Peru'</span>, <span style=\"color: #008000; text-decoration-color: #008000\">'Philippines'</span>, \n",
       "<span style=\"color: #008000; text-decoration-color: #008000\">'Pitcairn'</span>, <span style=\"color: #008000; text-decoration-color: #008000\">'Poland'</span>, <span style=\"color: #008000; text-decoration-color: #008000\">'Portugal'</span>, <span style=\"color: #008000; text-decoration-color: #008000\">'Puerto Rico'</span>, <span style=\"color: #008000; text-decoration-color: #008000\">'Qatar'</span>, <span style=\"color: #008000; text-decoration-color: #008000\">'Romania'</span>, <span style=\"color: #008000; text-decoration-color: #008000\">'Russian Federation'</span>, <span style=\"color: #008000; text-decoration-color: #008000\">'Rwanda'</span>, <span style=\"color: #008000; text-decoration-color: #008000\">'Réunion'</span>, \n",
       "<span style=\"color: #008000; text-decoration-color: #008000\">'Saint Barthélemy'</span>, <span style=\"color: #008000; text-decoration-color: #008000\">'Saint Helena, Ascension and Tristan da Cunha'</span>, <span style=\"color: #008000; text-decoration-color: #008000\">'Saint Kitts and Nevis'</span>, <span style=\"color: #008000; text-decoration-color: #008000\">'Saint Lucia'</span>, <span style=\"color: #008000; text-decoration-color: #008000\">'Saint </span>\n",
       "<span style=\"color: #008000; text-decoration-color: #008000\">Martin (French part)'</span>, <span style=\"color: #008000; text-decoration-color: #008000\">'Saint Pierre and Miquelon'</span>, <span style=\"color: #008000; text-decoration-color: #008000\">'Saint Vincent and the Grenadines'</span>, <span style=\"color: #008000; text-decoration-color: #008000\">'Samoa'</span>, <span style=\"color: #008000; text-decoration-color: #008000\">'San Marino'</span>, <span style=\"color: #008000; text-decoration-color: #008000\">'Sao</span>\n",
       "<span style=\"color: #008000; text-decoration-color: #008000\">Tome and Principe'</span>, <span style=\"color: #008000; text-decoration-color: #008000\">'Saudi Arabia'</span>, <span style=\"color: #008000; text-decoration-color: #008000\">'Senegal'</span>, <span style=\"color: #008000; text-decoration-color: #008000\">'Serbia'</span>, <span style=\"color: #008000; text-decoration-color: #008000\">'Seychelles'</span>, <span style=\"color: #008000; text-decoration-color: #008000\">'Sierra Leone'</span>, <span style=\"color: #008000; text-decoration-color: #008000\">'Singapore'</span>, <span style=\"color: #008000; text-decoration-color: #008000\">'Sint Maarten </span>\n",
       "<span style=\"color: #008000; text-decoration-color: #008000\">(Dutch part)'</span>, <span style=\"color: #008000; text-decoration-color: #008000\">'Slovakia'</span>, <span style=\"color: #008000; text-decoration-color: #008000\">'Slovenia'</span>, <span style=\"color: #008000; text-decoration-color: #008000\">'Solomon Islands'</span>, <span style=\"color: #008000; text-decoration-color: #008000\">'Somalia'</span>, <span style=\"color: #008000; text-decoration-color: #008000\">'South Africa'</span>, <span style=\"color: #008000; text-decoration-color: #008000\">'South Georgia and the South </span>\n",
       "<span style=\"color: #008000; text-decoration-color: #008000\">Sandwich Islands'</span>, <span style=\"color: #008000; text-decoration-color: #008000\">'South Sudan'</span>, <span style=\"color: #008000; text-decoration-color: #008000\">'Spain'</span>, <span style=\"color: #008000; text-decoration-color: #008000\">'Sri Lanka'</span>, <span style=\"color: #008000; text-decoration-color: #008000\">'Sudan'</span>, <span style=\"color: #008000; text-decoration-color: #008000\">'Suriname'</span>, <span style=\"color: #008000; text-decoration-color: #008000\">'Svalbard and Jan Mayen'</span>, <span style=\"color: #008000; text-decoration-color: #008000\">'Swaziland'</span>,\n",
       "<span style=\"color: #008000; text-decoration-color: #008000\">'Sweden'</span>, <span style=\"color: #008000; text-decoration-color: #008000\">'Switzerland'</span>, <span style=\"color: #008000; text-decoration-color: #008000\">'Syrian Arab Republic'</span>, <span style=\"color: #008000; text-decoration-color: #008000\">'Taiwan, Province of China'</span>, <span style=\"color: #008000; text-decoration-color: #008000\">'Tajikistan'</span>, <span style=\"color: #008000; text-decoration-color: #008000\">'Tanzania, United </span>\n",
       "<span style=\"color: #008000; text-decoration-color: #008000\">Republic of'</span>, <span style=\"color: #008000; text-decoration-color: #008000\">'Thailand'</span>, <span style=\"color: #008000; text-decoration-color: #008000\">'Timor-Leste'</span>, <span style=\"color: #008000; text-decoration-color: #008000\">'Togo'</span>, <span style=\"color: #008000; text-decoration-color: #008000\">'Tokelau'</span>, <span style=\"color: #008000; text-decoration-color: #008000\">'Tonga'</span>, <span style=\"color: #008000; text-decoration-color: #008000\">'Trinidad and Tobago'</span>, <span style=\"color: #008000; text-decoration-color: #008000\">'Tunisia'</span>, <span style=\"color: #008000; text-decoration-color: #008000\">'Turkey'</span>, \n",
       "<span style=\"color: #008000; text-decoration-color: #008000\">'Turkmenistan'</span>, <span style=\"color: #008000; text-decoration-color: #008000\">'Turks and Caicos Islands'</span>, <span style=\"color: #008000; text-decoration-color: #008000\">'Tuvalu'</span>, <span style=\"color: #008000; text-decoration-color: #008000\">'Uganda'</span>, <span style=\"color: #008000; text-decoration-color: #008000\">'Ukraine'</span>, <span style=\"color: #008000; text-decoration-color: #008000\">'United Arab Emirates'</span>, <span style=\"color: #008000; text-decoration-color: #008000\">'United </span>\n",
       "<span style=\"color: #008000; text-decoration-color: #008000\">Kingdom'</span>, <span style=\"color: #008000; text-decoration-color: #008000\">'United States'</span>, <span style=\"color: #008000; text-decoration-color: #008000\">'United States Minor Outlying Islands'</span>, <span style=\"color: #008000; text-decoration-color: #008000\">'Uruguay'</span>, <span style=\"color: #008000; text-decoration-color: #008000\">'Uzbekistan'</span>, <span style=\"color: #008000; text-decoration-color: #008000\">'Vanuatu'</span>, <span style=\"color: #008000; text-decoration-color: #008000\">'Venezuela, </span>\n",
       "<span style=\"color: #008000; text-decoration-color: #008000\">Bolivarian Republic of'</span>, <span style=\"color: #008000; text-decoration-color: #008000\">'Viet Nam'</span>, <span style=\"color: #008000; text-decoration-color: #008000\">'Virgin Islands, British'</span>, <span style=\"color: #008000; text-decoration-color: #008000\">'Virgin Islands, U.S.'</span>, <span style=\"color: #008000; text-decoration-color: #008000\">'Wallis and Futuna'</span>, \n",
       "<span style=\"color: #008000; text-decoration-color: #008000\">'Western Sahara'</span>, <span style=\"color: #008000; text-decoration-color: #008000\">'Yemen'</span>, <span style=\"color: #008000; text-decoration-color: #008000\">'Zambia'</span>, <span style=\"color: #008000; text-decoration-color: #008000\">'Zimbabwe'</span> or <span style=\"color: #008000; text-decoration-color: #008000\">'Åland Islands'</span> <span style=\"font-weight: bold\">[</span><span style=\"color: #808000; text-decoration-color: #808000\">type</span>=<span style=\"color: #800080; text-decoration-color: #800080\">enum</span>, <span style=\"color: #808000; text-decoration-color: #808000\">input_value</span>=<span style=\"color: #008000; text-decoration-color: #008000\">'germany'</span>, \n",
       "<span style=\"color: #808000; text-decoration-color: #808000\">input_type</span>=<span style=\"color: #800080; text-decoration-color: #800080\">str</span><span style=\"font-weight: bold\">]</span>\n",
       "    For further information visit <span style=\"color: #0000ff; text-decoration-color: #0000ff; text-decoration: underline\">https://errors.pydantic.dev/2.7/v/enum</span>\n",
       "</pre>\n"
      ],
      "text/plain": [
       "\u001b[1;36m1\u001b[0m validation error for GeographicCoverage\n",
       "country\n",
       "  Input should be \u001b[32m'Afghanistan'\u001b[0m, \u001b[32m'Albania'\u001b[0m, \u001b[32m'Algeria'\u001b[0m, \u001b[32m'American Samoa'\u001b[0m, \u001b[32m'Andorra'\u001b[0m, \u001b[32m'Angola'\u001b[0m, \u001b[32m'Anguilla'\u001b[0m, \n",
       "\u001b[32m'Antarctica'\u001b[0m, \u001b[32m'Antigua and Barbuda'\u001b[0m, \u001b[32m'Argentina'\u001b[0m, \u001b[32m'Armenia'\u001b[0m, \u001b[32m'Aruba'\u001b[0m, \u001b[32m'Australia'\u001b[0m, \u001b[32m'Austria'\u001b[0m, \u001b[32m'Azerbaijan'\u001b[0m, \n",
       "\u001b[32m'Bahamas'\u001b[0m, \u001b[32m'Bahrain'\u001b[0m, \u001b[32m'Bangladesh'\u001b[0m, \u001b[32m'Barbados'\u001b[0m, \u001b[32m'Belarus'\u001b[0m, \u001b[32m'Belgium'\u001b[0m, \u001b[32m'Belize'\u001b[0m, \u001b[32m'Benin'\u001b[0m, \u001b[32m'Bermuda'\u001b[0m, \u001b[32m'Bhutan'\u001b[0m, \n",
       "\u001b[32m'Bolivia, Plurinational State of'\u001b[0m, \u001b[32m'Bonaire, Sint Eustatius and Saba'\u001b[0m, \u001b[32m'Bosnia and Herzegovina'\u001b[0m, \u001b[32m'Botswana'\u001b[0m, \n",
       "\u001b[32m'Bouvet Island'\u001b[0m, \u001b[32m'Brazil'\u001b[0m, \u001b[32m'British Indian Ocean Territory'\u001b[0m, \u001b[32m'Brunei Darussalam'\u001b[0m, \u001b[32m'Bulgaria'\u001b[0m, \u001b[32m'Burkina Faso'\u001b[0m, \n",
       "\u001b[32m'Burundi'\u001b[0m, \u001b[32m'Cambodia'\u001b[0m, \u001b[32m'Cameroon'\u001b[0m, \u001b[32m'Canada'\u001b[0m, \u001b[32m'Cape Verde'\u001b[0m, \u001b[32m'Cayman Islands'\u001b[0m, \u001b[32m'Central African Republic'\u001b[0m, \u001b[32m'Chad'\u001b[0m, \n",
       "\u001b[32m'Chile'\u001b[0m, \u001b[32m'China'\u001b[0m, \u001b[32m'Christmas Island'\u001b[0m, \u001b[32m'Cocos \u001b[0m\u001b[32m(\u001b[0m\u001b[32mKeeling\u001b[0m\u001b[32m)\u001b[0m\u001b[32m Islands'\u001b[0m, \u001b[32m'Colombia'\u001b[0m, \u001b[32m'Comoros'\u001b[0m, \u001b[32m'Congo'\u001b[0m, \u001b[32m'Congo, the \u001b[0m\n",
       "\u001b[32mDemocratic Republic of the'\u001b[0m, \u001b[32m'Cook Islands'\u001b[0m, \u001b[32m'Costa Rica'\u001b[0m, \u001b[32m'Croatia'\u001b[0m, \u001b[32m'Cuba'\u001b[0m, \u001b[32m'Curaçao'\u001b[0m, \u001b[32m'Cyprus'\u001b[0m, \u001b[32m'Czech \u001b[0m\n",
       "\u001b[32mRepublic'\u001b[0m, \u001b[32m\"Côte d'Ivoire\"\u001b[0m, \u001b[32m'Denmark'\u001b[0m, \u001b[32m'Djibouti'\u001b[0m, \u001b[32m'Dominica'\u001b[0m, \u001b[32m'Dominican Republic'\u001b[0m, \u001b[32m'Ecuador'\u001b[0m, \u001b[32m'Egypt'\u001b[0m, \u001b[32m'El \u001b[0m\n",
       "\u001b[32mSalvador'\u001b[0m, \u001b[32m'Equatorial Guinea'\u001b[0m, \u001b[32m'Eritrea'\u001b[0m, \u001b[32m'Estonia'\u001b[0m, \u001b[32m'Ethiopia'\u001b[0m, \u001b[32m'Falkland Islands \u001b[0m\u001b[32m(\u001b[0m\u001b[32mMalvinas\u001b[0m\u001b[32m)\u001b[0m\u001b[32m'\u001b[0m, \u001b[32m'Faroe Islands'\u001b[0m, \n",
       "\u001b[32m'Fiji'\u001b[0m, \u001b[32m'Finland'\u001b[0m, \u001b[32m'France'\u001b[0m, \u001b[32m'French Guiana'\u001b[0m, \u001b[32m'French Polynesia'\u001b[0m, \u001b[32m'French Southern Territories'\u001b[0m, \u001b[32m'Gabon'\u001b[0m, \u001b[32m'Gambia'\u001b[0m,\n",
       "\u001b[32m'Georgia'\u001b[0m, \u001b[32m'Germany'\u001b[0m, \u001b[32m'Ghana'\u001b[0m, \u001b[32m'Gibraltar'\u001b[0m, \u001b[32m'Greece'\u001b[0m, \u001b[32m'Greenland'\u001b[0m, \u001b[32m'Grenada'\u001b[0m, \u001b[32m'Guadeloupe'\u001b[0m, \u001b[32m'Guam'\u001b[0m, \u001b[32m'Guatemala'\u001b[0m, \n",
       "\u001b[32m'Guernsey'\u001b[0m, \u001b[32m'Guinea'\u001b[0m, \u001b[32m'Guinea-Bissau'\u001b[0m, \u001b[32m'Guyana'\u001b[0m, \u001b[32m'Haiti'\u001b[0m, \u001b[32m'Heard Island and Mcdonald Islands'\u001b[0m, \u001b[32m'Holy See \u001b[0m\u001b[32m(\u001b[0m\u001b[32mVatican \u001b[0m\n",
       "\u001b[32mCity State\u001b[0m\u001b[32m)\u001b[0m\u001b[32m'\u001b[0m, \u001b[32m'Honduras'\u001b[0m, \u001b[32m'Hong Kong'\u001b[0m, \u001b[32m'Hungary'\u001b[0m, \u001b[32m'Iceland'\u001b[0m, \u001b[32m'India'\u001b[0m, \u001b[32m'Indonesia'\u001b[0m, \u001b[32m'Iran, Islamic Republic of'\u001b[0m, \n",
       "\u001b[32m'Iraq'\u001b[0m, \u001b[32m'Ireland'\u001b[0m, \u001b[32m'Isle of Man'\u001b[0m, \u001b[32m'Israel'\u001b[0m, \u001b[32m'Italy'\u001b[0m, \u001b[32m'Jamaica'\u001b[0m, \u001b[32m'Japan'\u001b[0m, \u001b[32m'Jersey'\u001b[0m, \u001b[32m'Jordan'\u001b[0m, \u001b[32m'Kazakhstan'\u001b[0m, \u001b[32m'Kenya'\u001b[0m,\n",
       "\u001b[32m'Kiribati'\u001b[0m, \u001b[32m\"Korea, Democratic People's Republic of\"\u001b[0m, \u001b[32m'Korea, Republic of'\u001b[0m, \u001b[32m'Kuwait'\u001b[0m, \u001b[32m'Kyrgyzstan'\u001b[0m, \u001b[32m\"Lao People's \u001b[0m\n",
       "\u001b[32mDemocratic Republic\"\u001b[0m, \u001b[32m'Latvia'\u001b[0m, \u001b[32m'Lebanon'\u001b[0m, \u001b[32m'Lesotho'\u001b[0m, \u001b[32m'Liberia'\u001b[0m, \u001b[32m'Libya'\u001b[0m, \u001b[32m'Liechtenstein'\u001b[0m, \u001b[32m'Lithuania'\u001b[0m, \n",
       "\u001b[32m'Luxembourg'\u001b[0m, \u001b[32m'Macao'\u001b[0m, \u001b[32m'Macedonia, the Former Yugoslav Republic of'\u001b[0m, \u001b[32m'Madagascar'\u001b[0m, \u001b[32m'Malawi'\u001b[0m, \u001b[32m'Malaysia'\u001b[0m, \n",
       "\u001b[32m'Maldives'\u001b[0m, \u001b[32m'Mali'\u001b[0m, \u001b[32m'Malta'\u001b[0m, \u001b[32m'Marshall Islands'\u001b[0m, \u001b[32m'Martinique'\u001b[0m, \u001b[32m'Mauritania'\u001b[0m, \u001b[32m'Mauritius'\u001b[0m, \u001b[32m'Mayotte'\u001b[0m, \u001b[32m'Mexico'\u001b[0m, \n",
       "\u001b[32m'Micronesia, Federated States of'\u001b[0m, \u001b[32m'Moldova, Republic of'\u001b[0m, \u001b[32m'Monaco'\u001b[0m, \u001b[32m'Mongolia'\u001b[0m, \u001b[32m'Montenegro'\u001b[0m, \u001b[32m'Montserrat'\u001b[0m, \n",
       "\u001b[32m'Morocco'\u001b[0m, \u001b[32m'Mozambique'\u001b[0m, \u001b[32m'Myanmar'\u001b[0m, \u001b[32m'Namibia'\u001b[0m, \u001b[32m'Nauru'\u001b[0m, \u001b[32m'Nepal'\u001b[0m, \u001b[32m'Netherlands'\u001b[0m, \u001b[32m'New Caledonia'\u001b[0m, \u001b[32m'New Zealand'\u001b[0m, \n",
       "\u001b[32m'Nicaragua'\u001b[0m, \u001b[32m'Niger'\u001b[0m, \u001b[32m'Nigeria'\u001b[0m, \u001b[32m'Niue'\u001b[0m, \u001b[32m'Norfolk Island'\u001b[0m, \u001b[32m'Northern Mariana Islands'\u001b[0m, \u001b[32m'Norway'\u001b[0m, \u001b[32m'Oman'\u001b[0m, \n",
       "\u001b[32m'Pakistan'\u001b[0m, \u001b[32m'Palau'\u001b[0m, \u001b[32m'Palestine, State of'\u001b[0m, \u001b[32m'Panama'\u001b[0m, \u001b[32m'Papua New Guinea'\u001b[0m, \u001b[32m'Paraguay'\u001b[0m, \u001b[32m'Peru'\u001b[0m, \u001b[32m'Philippines'\u001b[0m, \n",
       "\u001b[32m'Pitcairn'\u001b[0m, \u001b[32m'Poland'\u001b[0m, \u001b[32m'Portugal'\u001b[0m, \u001b[32m'Puerto Rico'\u001b[0m, \u001b[32m'Qatar'\u001b[0m, \u001b[32m'Romania'\u001b[0m, \u001b[32m'Russian Federation'\u001b[0m, \u001b[32m'Rwanda'\u001b[0m, \u001b[32m'Réunion'\u001b[0m, \n",
       "\u001b[32m'Saint Barthélemy'\u001b[0m, \u001b[32m'Saint Helena, Ascension and Tristan da Cunha'\u001b[0m, \u001b[32m'Saint Kitts and Nevis'\u001b[0m, \u001b[32m'Saint Lucia'\u001b[0m, \u001b[32m'Saint \u001b[0m\n",
       "\u001b[32mMartin \u001b[0m\u001b[32m(\u001b[0m\u001b[32mFrench part\u001b[0m\u001b[32m)\u001b[0m\u001b[32m'\u001b[0m, \u001b[32m'Saint Pierre and Miquelon'\u001b[0m, \u001b[32m'Saint Vincent and the Grenadines'\u001b[0m, \u001b[32m'Samoa'\u001b[0m, \u001b[32m'San Marino'\u001b[0m, \u001b[32m'Sao\u001b[0m\n",
       "\u001b[32mTome and Principe'\u001b[0m, \u001b[32m'Saudi Arabia'\u001b[0m, \u001b[32m'Senegal'\u001b[0m, \u001b[32m'Serbia'\u001b[0m, \u001b[32m'Seychelles'\u001b[0m, \u001b[32m'Sierra Leone'\u001b[0m, \u001b[32m'Singapore'\u001b[0m, \u001b[32m'Sint Maarten \u001b[0m\n",
       "\u001b[32m(\u001b[0m\u001b[32mDutch part\u001b[0m\u001b[32m)\u001b[0m\u001b[32m'\u001b[0m, \u001b[32m'Slovakia'\u001b[0m, \u001b[32m'Slovenia'\u001b[0m, \u001b[32m'Solomon Islands'\u001b[0m, \u001b[32m'Somalia'\u001b[0m, \u001b[32m'South Africa'\u001b[0m, \u001b[32m'South Georgia and the South \u001b[0m\n",
       "\u001b[32mSandwich Islands'\u001b[0m, \u001b[32m'South Sudan'\u001b[0m, \u001b[32m'Spain'\u001b[0m, \u001b[32m'Sri Lanka'\u001b[0m, \u001b[32m'Sudan'\u001b[0m, \u001b[32m'Suriname'\u001b[0m, \u001b[32m'Svalbard and Jan Mayen'\u001b[0m, \u001b[32m'Swaziland'\u001b[0m,\n",
       "\u001b[32m'Sweden'\u001b[0m, \u001b[32m'Switzerland'\u001b[0m, \u001b[32m'Syrian Arab Republic'\u001b[0m, \u001b[32m'Taiwan, Province of China'\u001b[0m, \u001b[32m'Tajikistan'\u001b[0m, \u001b[32m'Tanzania, United \u001b[0m\n",
       "\u001b[32mRepublic of'\u001b[0m, \u001b[32m'Thailand'\u001b[0m, \u001b[32m'Timor-Leste'\u001b[0m, \u001b[32m'Togo'\u001b[0m, \u001b[32m'Tokelau'\u001b[0m, \u001b[32m'Tonga'\u001b[0m, \u001b[32m'Trinidad and Tobago'\u001b[0m, \u001b[32m'Tunisia'\u001b[0m, \u001b[32m'Turkey'\u001b[0m, \n",
       "\u001b[32m'Turkmenistan'\u001b[0m, \u001b[32m'Turks and Caicos Islands'\u001b[0m, \u001b[32m'Tuvalu'\u001b[0m, \u001b[32m'Uganda'\u001b[0m, \u001b[32m'Ukraine'\u001b[0m, \u001b[32m'United Arab Emirates'\u001b[0m, \u001b[32m'United \u001b[0m\n",
       "\u001b[32mKingdom'\u001b[0m, \u001b[32m'United States'\u001b[0m, \u001b[32m'United States Minor Outlying Islands'\u001b[0m, \u001b[32m'Uruguay'\u001b[0m, \u001b[32m'Uzbekistan'\u001b[0m, \u001b[32m'Vanuatu'\u001b[0m, \u001b[32m'Venezuela, \u001b[0m\n",
       "\u001b[32mBolivarian Republic of'\u001b[0m, \u001b[32m'Viet Nam'\u001b[0m, \u001b[32m'Virgin Islands, British'\u001b[0m, \u001b[32m'Virgin Islands, U.S.'\u001b[0m, \u001b[32m'Wallis and Futuna'\u001b[0m, \n",
       "\u001b[32m'Western Sahara'\u001b[0m, \u001b[32m'Yemen'\u001b[0m, \u001b[32m'Zambia'\u001b[0m, \u001b[32m'Zimbabwe'\u001b[0m or \u001b[32m'Åland Islands'\u001b[0m \u001b[1m[\u001b[0m\u001b[33mtype\u001b[0m=\u001b[35menum\u001b[0m, \u001b[33minput_value\u001b[0m=\u001b[32m'germany'\u001b[0m, \n",
       "\u001b[33minput_type\u001b[0m=\u001b[35mstr\u001b[0m\u001b[1m]\u001b[0m\n",
       "    For further information visit \u001b[4;94mhttps://errors.pydantic.dev/2.7/v/enum\u001b[0m\n"
      ]
     },
     "metadata": {},
     "output_type": "display_data"
    }
   ],
   "source": [
    "# Using try-except to not break the flow\n",
    "from pydantic import ValidationError\n",
    "\n",
    "try:\n",
    "  # Adding a non-list element\n",
    "  dataset.geospatial.unit = \"unit\"\n",
    "except ValidationError as e:\n",
    "  rich.print(e)\n",
    "\n",
    "try:\n",
    "  # Adding a value that is not part of a controlled vocab\n",
    "  dataset.geospatial.add_coverage(\n",
    "      country=\"germany\",\n",
    "      state=\"BW\",\n",
    "      city=\"Stuttgart\",\n",
    "  )\n",
    "except ValidationError as e:\n",
    "  # ... you see the world is quite large :')\n",
    "  rich.print(e)"
   ]
  },
  {
   "cell_type": "markdown",
   "metadata": {},
   "source": [
    "To proceed, we can add more information to our dataset by including metadata. For now, we will only focus on filling out the required fields, but don't hesitate to try out other metadata options. It's worth noting that EasyDataverse will check for the mandatory fields during the upload process."
   ]
  },
  {
   "cell_type": "code",
   "execution_count": 67,
   "metadata": {
    "id": "mP7IIcK0necV",
    "tags": []
   },
   "outputs": [],
   "source": [
    "dataset.citation.title = \"My Dataset\"\n",
    "dataset.citation.add_author(name=\"John Doe\")\n",
    "dataset.citation.add_dataset_contact(name=\"John Doe\", email=\"john@doe.com\")\n",
    "dataset.citation.add_ds_description(value=\"This is a description\")\n",
    "dataset.citation.subject = [\"Other\"]"
   ]
  },
  {
   "cell_type": "markdown",
   "metadata": {},
   "source": [
    "### File uploads\n",
    "\n",
    "To add files to a dataset, you can utilize dedicated methods to add either a single file or a directory of files. Both of these methods are available within the `Dataset` instance and are register your files for upload. You also have the option to customize the directory in which the file is stored and rename it according to your preferences."
   ]
  },
  {
   "cell_type": "code",
   "execution_count": 68,
   "metadata": {
    "colab": {
     "base_uri": "https://localhost:8080/",
     "height": 33
    },
    "id": "MI77EWoyozId",
    "outputId": "3f3f38cd-0eb9-4e96-d011-c31269185341",
    "tags": []
   },
   "outputs": [
    {
     "data": {
      "text/html": [
       "<pre style=\"white-space:pre;overflow-x:auto;line-height:normal;font-family:Menlo,'DejaVu Sans Mono',consolas,'Courier New',monospace\">Added <span style=\"color: #008080; text-decoration-color: #008080; font-weight: bold\">4</span> files.\n",
       "</pre>\n"
      ],
      "text/plain": [
       "Added \u001b[1;36m4\u001b[0m files.\n"
      ]
     },
     "metadata": {},
     "output_type": "display_data"
    }
   ],
   "source": [
    "# Upload a single file\n",
    "dataset.add_file(\n",
    "    local_path=\"./data/anscomb.json\", # Path to the file on your system\n",
    "    dv_dir=\"some/sub/dir\", # Optional sub directory on Dataverse\n",
    "    file_name=\"different_name.json\" # Optional renaming of the file\n",
    ")\n",
    "\n",
    "\n",
    "# Upload an entire directory\n",
    "dataset.add_directory(\n",
    "    dirpath=\"./data\",\n",
    "    ignores=[\n",
    "        r\"anscomb.json\", # Ignore the previously added file\n",
    "        \"^\\..*\",         # Ignore hidden files and dirs\n",
    "    ]\n",
    ")\n",
    "\n",
    "# Check if all the files have been added\n",
    "rich.print(f\"Added {len(dataset.files)} files.\")"
   ]
  },
  {
   "cell_type": "markdown",
   "metadata": {},
   "source": [
    "### Uploading a dataset\n",
    "\n",
    "Before we upload a dataset, let's take a look at what goes on behind the scenes. EasyDataverse creates a Dataverse JSON that adds metadata to your dataset, which can be viewed by calling the `dataverse_dict`-method. However, you don't need to worry about this as EasyDataverse takes care of it for you."
   ]
  },
  {
   "cell_type": "code",
   "execution_count": 69,
   "metadata": {
    "colab": {
     "base_uri": "https://localhost:8080/",
     "height": 1000
    },
    "id": "KkdqrLDUvExD",
    "outputId": "7fcb55b1-0748-4510-ef66-23b4106878c7",
    "tags": []
   },
   "outputs": [
    {
     "data": {
      "text/html": [
       "<pre style=\"white-space:pre;overflow-x:auto;line-height:normal;font-family:Menlo,'DejaVu Sans Mono',consolas,'Courier New',monospace\"><span style=\"font-weight: bold\">{</span>\n",
       "    <span style=\"color: #008000; text-decoration-color: #008000\">'datasetVersion'</span>: <span style=\"font-weight: bold\">{</span>\n",
       "        <span style=\"color: #008000; text-decoration-color: #008000\">'metadataBlocks'</span>: <span style=\"font-weight: bold\">{</span>\n",
       "            <span style=\"color: #008000; text-decoration-color: #008000\">'geospatial'</span>: <span style=\"font-weight: bold\">{</span>\n",
       "                <span style=\"color: #008000; text-decoration-color: #008000\">'fields'</span>: <span style=\"font-weight: bold\">[</span>\n",
       "                    <span style=\"font-weight: bold\">{</span><span style=\"color: #008000; text-decoration-color: #008000\">'multiple'</span>: <span style=\"color: #00ff00; text-decoration-color: #00ff00; font-style: italic\">True</span>, <span style=\"color: #008000; text-decoration-color: #008000\">'typeClass'</span>: <span style=\"color: #008000; text-decoration-color: #008000\">'primitive'</span>, <span style=\"color: #008000; text-decoration-color: #008000\">'typeName'</span>: <span style=\"color: #008000; text-decoration-color: #008000\">'geographicUnit'</span>, <span style=\"color: #008000; text-decoration-color: #008000\">'value'</span>: <span style=\"font-weight: bold\">[</span><span style=\"color: #008000; text-decoration-color: #008000\">'unit'</span><span style=\"font-weight: bold\">]}</span>,\n",
       "                    <span style=\"font-weight: bold\">{</span>\n",
       "                        <span style=\"color: #008000; text-decoration-color: #008000\">'multiple'</span>: <span style=\"color: #00ff00; text-decoration-color: #00ff00; font-style: italic\">True</span>,\n",
       "                        <span style=\"color: #008000; text-decoration-color: #008000\">'typeClass'</span>: <span style=\"color: #008000; text-decoration-color: #008000\">'compound'</span>,\n",
       "                        <span style=\"color: #008000; text-decoration-color: #008000\">'typeName'</span>: <span style=\"color: #008000; text-decoration-color: #008000\">'geographicCoverage'</span>,\n",
       "                        <span style=\"color: #008000; text-decoration-color: #008000\">'value'</span>: <span style=\"font-weight: bold\">[</span>\n",
       "                            <span style=\"font-weight: bold\">{</span>\n",
       "                                <span style=\"color: #008000; text-decoration-color: #008000\">'country'</span>: <span style=\"font-weight: bold\">{</span>\n",
       "                                    <span style=\"color: #008000; text-decoration-color: #008000\">'multiple'</span>: <span style=\"color: #ff0000; text-decoration-color: #ff0000; font-style: italic\">False</span>,\n",
       "                                    <span style=\"color: #008000; text-decoration-color: #008000\">'typeClass'</span>: <span style=\"color: #008000; text-decoration-color: #008000\">'controlledVocabulary'</span>,\n",
       "                                    <span style=\"color: #008000; text-decoration-color: #008000\">'typeName'</span>: <span style=\"color: #008000; text-decoration-color: #008000\">'country'</span>,\n",
       "                                    <span style=\"color: #008000; text-decoration-color: #008000\">'value'</span>: <span style=\"color: #008000; text-decoration-color: #008000\">'Germany'</span>\n",
       "                                <span style=\"font-weight: bold\">}</span>,\n",
       "                                <span style=\"color: #008000; text-decoration-color: #008000\">'state'</span>: <span style=\"font-weight: bold\">{</span>\n",
       "                                    <span style=\"color: #008000; text-decoration-color: #008000\">'multiple'</span>: <span style=\"color: #ff0000; text-decoration-color: #ff0000; font-style: italic\">False</span>,\n",
       "                                    <span style=\"color: #008000; text-decoration-color: #008000\">'typeClass'</span>: <span style=\"color: #008000; text-decoration-color: #008000\">'primitive'</span>,\n",
       "                                    <span style=\"color: #008000; text-decoration-color: #008000\">'typeName'</span>: <span style=\"color: #008000; text-decoration-color: #008000\">'state'</span>,\n",
       "                                    <span style=\"color: #008000; text-decoration-color: #008000\">'value'</span>: <span style=\"color: #008000; text-decoration-color: #008000\">'BW'</span>\n",
       "                                <span style=\"font-weight: bold\">}</span>,\n",
       "                                <span style=\"color: #008000; text-decoration-color: #008000\">'city'</span>: <span style=\"font-weight: bold\">{</span>\n",
       "                                    <span style=\"color: #008000; text-decoration-color: #008000\">'multiple'</span>: <span style=\"color: #ff0000; text-decoration-color: #ff0000; font-style: italic\">False</span>,\n",
       "                                    <span style=\"color: #008000; text-decoration-color: #008000\">'typeClass'</span>: <span style=\"color: #008000; text-decoration-color: #008000\">'primitive'</span>,\n",
       "                                    <span style=\"color: #008000; text-decoration-color: #008000\">'typeName'</span>: <span style=\"color: #008000; text-decoration-color: #008000\">'city'</span>,\n",
       "                                    <span style=\"color: #008000; text-decoration-color: #008000\">'value'</span>: <span style=\"color: #008000; text-decoration-color: #008000\">'Stuttgart'</span>\n",
       "                                <span style=\"font-weight: bold\">}</span>\n",
       "                            <span style=\"font-weight: bold\">}</span>\n",
       "                        <span style=\"font-weight: bold\">]</span>\n",
       "                    <span style=\"font-weight: bold\">}</span>\n",
       "                <span style=\"font-weight: bold\">]</span>\n",
       "            <span style=\"font-weight: bold\">}</span>,\n",
       "            <span style=\"color: #008000; text-decoration-color: #008000\">'citation'</span>: <span style=\"font-weight: bold\">{</span>\n",
       "                <span style=\"color: #008000; text-decoration-color: #008000\">'fields'</span>: <span style=\"font-weight: bold\">[</span>\n",
       "                    <span style=\"font-weight: bold\">{</span><span style=\"color: #008000; text-decoration-color: #008000\">'multiple'</span>: <span style=\"color: #ff0000; text-decoration-color: #ff0000; font-style: italic\">False</span>, <span style=\"color: #008000; text-decoration-color: #008000\">'typeClass'</span>: <span style=\"color: #008000; text-decoration-color: #008000\">'primitive'</span>, <span style=\"color: #008000; text-decoration-color: #008000\">'typeName'</span>: <span style=\"color: #008000; text-decoration-color: #008000\">'title'</span>, <span style=\"color: #008000; text-decoration-color: #008000\">'value'</span>: <span style=\"color: #008000; text-decoration-color: #008000\">'My Dataset'</span><span style=\"font-weight: bold\">}</span>,\n",
       "                    <span style=\"font-weight: bold\">{</span>\n",
       "                        <span style=\"color: #008000; text-decoration-color: #008000\">'multiple'</span>: <span style=\"color: #00ff00; text-decoration-color: #00ff00; font-style: italic\">True</span>,\n",
       "                        <span style=\"color: #008000; text-decoration-color: #008000\">'typeClass'</span>: <span style=\"color: #008000; text-decoration-color: #008000\">'controlledVocabulary'</span>,\n",
       "                        <span style=\"color: #008000; text-decoration-color: #008000\">'typeName'</span>: <span style=\"color: #008000; text-decoration-color: #008000\">'subject'</span>,\n",
       "                        <span style=\"color: #008000; text-decoration-color: #008000\">'value'</span>: <span style=\"font-weight: bold\">[</span><span style=\"color: #008000; text-decoration-color: #008000\">'Other'</span><span style=\"font-weight: bold\">]</span>\n",
       "                    <span style=\"font-weight: bold\">}</span>,\n",
       "                    <span style=\"font-weight: bold\">{</span>\n",
       "                        <span style=\"color: #008000; text-decoration-color: #008000\">'multiple'</span>: <span style=\"color: #00ff00; text-decoration-color: #00ff00; font-style: italic\">True</span>,\n",
       "                        <span style=\"color: #008000; text-decoration-color: #008000\">'typeClass'</span>: <span style=\"color: #008000; text-decoration-color: #008000\">'compound'</span>,\n",
       "                        <span style=\"color: #008000; text-decoration-color: #008000\">'typeName'</span>: <span style=\"color: #008000; text-decoration-color: #008000\">'author'</span>,\n",
       "                        <span style=\"color: #008000; text-decoration-color: #008000\">'value'</span>: <span style=\"font-weight: bold\">[</span>\n",
       "                            <span style=\"font-weight: bold\">{</span>\n",
       "                                <span style=\"color: #008000; text-decoration-color: #008000\">'authorName'</span>: <span style=\"font-weight: bold\">{</span>\n",
       "                                    <span style=\"color: #008000; text-decoration-color: #008000\">'multiple'</span>: <span style=\"color: #ff0000; text-decoration-color: #ff0000; font-style: italic\">False</span>,\n",
       "                                    <span style=\"color: #008000; text-decoration-color: #008000\">'typeClass'</span>: <span style=\"color: #008000; text-decoration-color: #008000\">'primitive'</span>,\n",
       "                                    <span style=\"color: #008000; text-decoration-color: #008000\">'typeName'</span>: <span style=\"color: #008000; text-decoration-color: #008000\">'authorName'</span>,\n",
       "                                    <span style=\"color: #008000; text-decoration-color: #008000\">'value'</span>: <span style=\"color: #008000; text-decoration-color: #008000\">'John Doe'</span>\n",
       "                                <span style=\"font-weight: bold\">}</span>\n",
       "                            <span style=\"font-weight: bold\">}</span>\n",
       "                        <span style=\"font-weight: bold\">]</span>\n",
       "                    <span style=\"font-weight: bold\">}</span>,\n",
       "                    <span style=\"font-weight: bold\">{</span>\n",
       "                        <span style=\"color: #008000; text-decoration-color: #008000\">'multiple'</span>: <span style=\"color: #00ff00; text-decoration-color: #00ff00; font-style: italic\">True</span>,\n",
       "                        <span style=\"color: #008000; text-decoration-color: #008000\">'typeClass'</span>: <span style=\"color: #008000; text-decoration-color: #008000\">'compound'</span>,\n",
       "                        <span style=\"color: #008000; text-decoration-color: #008000\">'typeName'</span>: <span style=\"color: #008000; text-decoration-color: #008000\">'datasetContact'</span>,\n",
       "                        <span style=\"color: #008000; text-decoration-color: #008000\">'value'</span>: <span style=\"font-weight: bold\">[</span>\n",
       "                            <span style=\"font-weight: bold\">{</span>\n",
       "                                <span style=\"color: #008000; text-decoration-color: #008000\">'datasetContactName'</span>: <span style=\"font-weight: bold\">{</span>\n",
       "                                    <span style=\"color: #008000; text-decoration-color: #008000\">'multiple'</span>: <span style=\"color: #ff0000; text-decoration-color: #ff0000; font-style: italic\">False</span>,\n",
       "                                    <span style=\"color: #008000; text-decoration-color: #008000\">'typeClass'</span>: <span style=\"color: #008000; text-decoration-color: #008000\">'primitive'</span>,\n",
       "                                    <span style=\"color: #008000; text-decoration-color: #008000\">'typeName'</span>: <span style=\"color: #008000; text-decoration-color: #008000\">'datasetContactName'</span>,\n",
       "                                    <span style=\"color: #008000; text-decoration-color: #008000\">'value'</span>: <span style=\"color: #008000; text-decoration-color: #008000\">'John Doe'</span>\n",
       "                                <span style=\"font-weight: bold\">}</span>,\n",
       "                                <span style=\"color: #008000; text-decoration-color: #008000\">'datasetContactEmail'</span>: <span style=\"font-weight: bold\">{</span>\n",
       "                                    <span style=\"color: #008000; text-decoration-color: #008000\">'multiple'</span>: <span style=\"color: #ff0000; text-decoration-color: #ff0000; font-style: italic\">False</span>,\n",
       "                                    <span style=\"color: #008000; text-decoration-color: #008000\">'typeClass'</span>: <span style=\"color: #008000; text-decoration-color: #008000\">'primitive'</span>,\n",
       "                                    <span style=\"color: #008000; text-decoration-color: #008000\">'typeName'</span>: <span style=\"color: #008000; text-decoration-color: #008000\">'datasetContactEmail'</span>,\n",
       "                                    <span style=\"color: #008000; text-decoration-color: #008000\">'value'</span>: <span style=\"color: #008000; text-decoration-color: #008000\">'john@doe.com'</span>\n",
       "                                <span style=\"font-weight: bold\">}</span>\n",
       "                            <span style=\"font-weight: bold\">}</span>\n",
       "                        <span style=\"font-weight: bold\">]</span>\n",
       "                    <span style=\"font-weight: bold\">}</span>,\n",
       "                    <span style=\"font-weight: bold\">{</span>\n",
       "                        <span style=\"color: #008000; text-decoration-color: #008000\">'multiple'</span>: <span style=\"color: #00ff00; text-decoration-color: #00ff00; font-style: italic\">True</span>,\n",
       "                        <span style=\"color: #008000; text-decoration-color: #008000\">'typeClass'</span>: <span style=\"color: #008000; text-decoration-color: #008000\">'compound'</span>,\n",
       "                        <span style=\"color: #008000; text-decoration-color: #008000\">'typeName'</span>: <span style=\"color: #008000; text-decoration-color: #008000\">'dsDescription'</span>,\n",
       "                        <span style=\"color: #008000; text-decoration-color: #008000\">'value'</span>: <span style=\"font-weight: bold\">[</span>\n",
       "                            <span style=\"font-weight: bold\">{</span>\n",
       "                                <span style=\"color: #008000; text-decoration-color: #008000\">'dsDescriptionValue'</span>: <span style=\"font-weight: bold\">{</span>\n",
       "                                    <span style=\"color: #008000; text-decoration-color: #008000\">'multiple'</span>: <span style=\"color: #ff0000; text-decoration-color: #ff0000; font-style: italic\">False</span>,\n",
       "                                    <span style=\"color: #008000; text-decoration-color: #008000\">'typeClass'</span>: <span style=\"color: #008000; text-decoration-color: #008000\">'primitive'</span>,\n",
       "                                    <span style=\"color: #008000; text-decoration-color: #008000\">'typeName'</span>: <span style=\"color: #008000; text-decoration-color: #008000\">'dsDescriptionValue'</span>,\n",
       "                                    <span style=\"color: #008000; text-decoration-color: #008000\">'value'</span>: <span style=\"color: #008000; text-decoration-color: #008000\">'This is a description'</span>\n",
       "                                <span style=\"font-weight: bold\">}</span>\n",
       "                            <span style=\"font-weight: bold\">}</span>\n",
       "                        <span style=\"font-weight: bold\">]</span>\n",
       "                    <span style=\"font-weight: bold\">}</span>\n",
       "                <span style=\"font-weight: bold\">]</span>\n",
       "            <span style=\"font-weight: bold\">}</span>\n",
       "        <span style=\"font-weight: bold\">}</span>\n",
       "    <span style=\"font-weight: bold\">}</span>\n",
       "<span style=\"font-weight: bold\">}</span>\n",
       "</pre>\n"
      ],
      "text/plain": [
       "\u001b[1m{\u001b[0m\n",
       "    \u001b[32m'datasetVersion'\u001b[0m: \u001b[1m{\u001b[0m\n",
       "        \u001b[32m'metadataBlocks'\u001b[0m: \u001b[1m{\u001b[0m\n",
       "            \u001b[32m'geospatial'\u001b[0m: \u001b[1m{\u001b[0m\n",
       "                \u001b[32m'fields'\u001b[0m: \u001b[1m[\u001b[0m\n",
       "                    \u001b[1m{\u001b[0m\u001b[32m'multiple'\u001b[0m: \u001b[3;92mTrue\u001b[0m, \u001b[32m'typeClass'\u001b[0m: \u001b[32m'primitive'\u001b[0m, \u001b[32m'typeName'\u001b[0m: \u001b[32m'geographicUnit'\u001b[0m, \u001b[32m'value'\u001b[0m: \u001b[1m[\u001b[0m\u001b[32m'unit'\u001b[0m\u001b[1m]\u001b[0m\u001b[1m}\u001b[0m,\n",
       "                    \u001b[1m{\u001b[0m\n",
       "                        \u001b[32m'multiple'\u001b[0m: \u001b[3;92mTrue\u001b[0m,\n",
       "                        \u001b[32m'typeClass'\u001b[0m: \u001b[32m'compound'\u001b[0m,\n",
       "                        \u001b[32m'typeName'\u001b[0m: \u001b[32m'geographicCoverage'\u001b[0m,\n",
       "                        \u001b[32m'value'\u001b[0m: \u001b[1m[\u001b[0m\n",
       "                            \u001b[1m{\u001b[0m\n",
       "                                \u001b[32m'country'\u001b[0m: \u001b[1m{\u001b[0m\n",
       "                                    \u001b[32m'multiple'\u001b[0m: \u001b[3;91mFalse\u001b[0m,\n",
       "                                    \u001b[32m'typeClass'\u001b[0m: \u001b[32m'controlledVocabulary'\u001b[0m,\n",
       "                                    \u001b[32m'typeName'\u001b[0m: \u001b[32m'country'\u001b[0m,\n",
       "                                    \u001b[32m'value'\u001b[0m: \u001b[32m'Germany'\u001b[0m\n",
       "                                \u001b[1m}\u001b[0m,\n",
       "                                \u001b[32m'state'\u001b[0m: \u001b[1m{\u001b[0m\n",
       "                                    \u001b[32m'multiple'\u001b[0m: \u001b[3;91mFalse\u001b[0m,\n",
       "                                    \u001b[32m'typeClass'\u001b[0m: \u001b[32m'primitive'\u001b[0m,\n",
       "                                    \u001b[32m'typeName'\u001b[0m: \u001b[32m'state'\u001b[0m,\n",
       "                                    \u001b[32m'value'\u001b[0m: \u001b[32m'BW'\u001b[0m\n",
       "                                \u001b[1m}\u001b[0m,\n",
       "                                \u001b[32m'city'\u001b[0m: \u001b[1m{\u001b[0m\n",
       "                                    \u001b[32m'multiple'\u001b[0m: \u001b[3;91mFalse\u001b[0m,\n",
       "                                    \u001b[32m'typeClass'\u001b[0m: \u001b[32m'primitive'\u001b[0m,\n",
       "                                    \u001b[32m'typeName'\u001b[0m: \u001b[32m'city'\u001b[0m,\n",
       "                                    \u001b[32m'value'\u001b[0m: \u001b[32m'Stuttgart'\u001b[0m\n",
       "                                \u001b[1m}\u001b[0m\n",
       "                            \u001b[1m}\u001b[0m\n",
       "                        \u001b[1m]\u001b[0m\n",
       "                    \u001b[1m}\u001b[0m\n",
       "                \u001b[1m]\u001b[0m\n",
       "            \u001b[1m}\u001b[0m,\n",
       "            \u001b[32m'citation'\u001b[0m: \u001b[1m{\u001b[0m\n",
       "                \u001b[32m'fields'\u001b[0m: \u001b[1m[\u001b[0m\n",
       "                    \u001b[1m{\u001b[0m\u001b[32m'multiple'\u001b[0m: \u001b[3;91mFalse\u001b[0m, \u001b[32m'typeClass'\u001b[0m: \u001b[32m'primitive'\u001b[0m, \u001b[32m'typeName'\u001b[0m: \u001b[32m'title'\u001b[0m, \u001b[32m'value'\u001b[0m: \u001b[32m'My Dataset'\u001b[0m\u001b[1m}\u001b[0m,\n",
       "                    \u001b[1m{\u001b[0m\n",
       "                        \u001b[32m'multiple'\u001b[0m: \u001b[3;92mTrue\u001b[0m,\n",
       "                        \u001b[32m'typeClass'\u001b[0m: \u001b[32m'controlledVocabulary'\u001b[0m,\n",
       "                        \u001b[32m'typeName'\u001b[0m: \u001b[32m'subject'\u001b[0m,\n",
       "                        \u001b[32m'value'\u001b[0m: \u001b[1m[\u001b[0m\u001b[32m'Other'\u001b[0m\u001b[1m]\u001b[0m\n",
       "                    \u001b[1m}\u001b[0m,\n",
       "                    \u001b[1m{\u001b[0m\n",
       "                        \u001b[32m'multiple'\u001b[0m: \u001b[3;92mTrue\u001b[0m,\n",
       "                        \u001b[32m'typeClass'\u001b[0m: \u001b[32m'compound'\u001b[0m,\n",
       "                        \u001b[32m'typeName'\u001b[0m: \u001b[32m'author'\u001b[0m,\n",
       "                        \u001b[32m'value'\u001b[0m: \u001b[1m[\u001b[0m\n",
       "                            \u001b[1m{\u001b[0m\n",
       "                                \u001b[32m'authorName'\u001b[0m: \u001b[1m{\u001b[0m\n",
       "                                    \u001b[32m'multiple'\u001b[0m: \u001b[3;91mFalse\u001b[0m,\n",
       "                                    \u001b[32m'typeClass'\u001b[0m: \u001b[32m'primitive'\u001b[0m,\n",
       "                                    \u001b[32m'typeName'\u001b[0m: \u001b[32m'authorName'\u001b[0m,\n",
       "                                    \u001b[32m'value'\u001b[0m: \u001b[32m'John Doe'\u001b[0m\n",
       "                                \u001b[1m}\u001b[0m\n",
       "                            \u001b[1m}\u001b[0m\n",
       "                        \u001b[1m]\u001b[0m\n",
       "                    \u001b[1m}\u001b[0m,\n",
       "                    \u001b[1m{\u001b[0m\n",
       "                        \u001b[32m'multiple'\u001b[0m: \u001b[3;92mTrue\u001b[0m,\n",
       "                        \u001b[32m'typeClass'\u001b[0m: \u001b[32m'compound'\u001b[0m,\n",
       "                        \u001b[32m'typeName'\u001b[0m: \u001b[32m'datasetContact'\u001b[0m,\n",
       "                        \u001b[32m'value'\u001b[0m: \u001b[1m[\u001b[0m\n",
       "                            \u001b[1m{\u001b[0m\n",
       "                                \u001b[32m'datasetContactName'\u001b[0m: \u001b[1m{\u001b[0m\n",
       "                                    \u001b[32m'multiple'\u001b[0m: \u001b[3;91mFalse\u001b[0m,\n",
       "                                    \u001b[32m'typeClass'\u001b[0m: \u001b[32m'primitive'\u001b[0m,\n",
       "                                    \u001b[32m'typeName'\u001b[0m: \u001b[32m'datasetContactName'\u001b[0m,\n",
       "                                    \u001b[32m'value'\u001b[0m: \u001b[32m'John Doe'\u001b[0m\n",
       "                                \u001b[1m}\u001b[0m,\n",
       "                                \u001b[32m'datasetContactEmail'\u001b[0m: \u001b[1m{\u001b[0m\n",
       "                                    \u001b[32m'multiple'\u001b[0m: \u001b[3;91mFalse\u001b[0m,\n",
       "                                    \u001b[32m'typeClass'\u001b[0m: \u001b[32m'primitive'\u001b[0m,\n",
       "                                    \u001b[32m'typeName'\u001b[0m: \u001b[32m'datasetContactEmail'\u001b[0m,\n",
       "                                    \u001b[32m'value'\u001b[0m: \u001b[32m'john@doe.com'\u001b[0m\n",
       "                                \u001b[1m}\u001b[0m\n",
       "                            \u001b[1m}\u001b[0m\n",
       "                        \u001b[1m]\u001b[0m\n",
       "                    \u001b[1m}\u001b[0m,\n",
       "                    \u001b[1m{\u001b[0m\n",
       "                        \u001b[32m'multiple'\u001b[0m: \u001b[3;92mTrue\u001b[0m,\n",
       "                        \u001b[32m'typeClass'\u001b[0m: \u001b[32m'compound'\u001b[0m,\n",
       "                        \u001b[32m'typeName'\u001b[0m: \u001b[32m'dsDescription'\u001b[0m,\n",
       "                        \u001b[32m'value'\u001b[0m: \u001b[1m[\u001b[0m\n",
       "                            \u001b[1m{\u001b[0m\n",
       "                                \u001b[32m'dsDescriptionValue'\u001b[0m: \u001b[1m{\u001b[0m\n",
       "                                    \u001b[32m'multiple'\u001b[0m: \u001b[3;91mFalse\u001b[0m,\n",
       "                                    \u001b[32m'typeClass'\u001b[0m: \u001b[32m'primitive'\u001b[0m,\n",
       "                                    \u001b[32m'typeName'\u001b[0m: \u001b[32m'dsDescriptionValue'\u001b[0m,\n",
       "                                    \u001b[32m'value'\u001b[0m: \u001b[32m'This is a description'\u001b[0m\n",
       "                                \u001b[1m}\u001b[0m\n",
       "                            \u001b[1m}\u001b[0m\n",
       "                        \u001b[1m]\u001b[0m\n",
       "                    \u001b[1m}\u001b[0m\n",
       "                \u001b[1m]\u001b[0m\n",
       "            \u001b[1m}\u001b[0m\n",
       "        \u001b[1m}\u001b[0m\n",
       "    \u001b[1m}\u001b[0m\n",
       "\u001b[1m}\u001b[0m\n"
      ]
     },
     "metadata": {},
     "output_type": "display_data"
    }
   ],
   "source": [
    "rich.print(dataset.dataverse_dict())"
   ]
  },
  {
   "cell_type": "markdown",
   "metadata": {},
   "source": [
    "After completing all the necessary steps, we are now ready to move on to the final step which is to upload the dataset to Demo Dataverse.\n",
    "\n",
    "> Please note that this collection is privat and you may want to replace it with one of your own. Also, this is an S3-enabled collection that demonstrates how you can directly upload to S3!"
   ]
  },
  {
   "cell_type": "code",
   "execution_count": 70,
   "metadata": {
    "colab": {
     "base_uri": "https://localhost:8080/",
     "height": 621,
     "referenced_widgets": [
      "8484a9b7f46747f0af0315d2e0ec02d2",
      "df4708b6eff5423382ab4ea8d52fe3d4",
      "f2f63499962441c88d5025a5c7cb6c8b",
      "228bbf78edd04e1cb19c2f04e9fdf7f8"
     ]
    },
    "id": "c8N4qKwOvuM7",
    "outputId": "67f0a008-679e-4636-95c2-9baf3c08d060",
    "tags": []
   },
   "outputs": [
    {
     "name": "stdout",
     "output_type": "stream",
     "text": [
      "Dataset with pid 'doi:10.70122/FK2/2ZNL2G' created.\n",
      "\n",
      "\n"
     ]
    },
    {
     "data": {
      "text/html": [
       "<pre style=\"white-space:pre;overflow-x:auto;line-height:normal;font-family:Menlo,'DejaVu Sans Mono',consolas,'Courier New',monospace\">╭──────────── <span style=\"font-weight: bold\">DVUploader</span> ─────────────╮\n",
       "│ Server: <span style=\"font-weight: bold\">https://demo.dataverse.org/</span> │\n",
       "│ PID: <span style=\"font-weight: bold\">doi:10.70122/FK2/2ZNL2G</span>        │\n",
       "│ Files: 4                            │\n",
       "╰─────────────────────────────────────╯\n",
       "</pre>\n"
      ],
      "text/plain": [
       "╭──────────── \u001b[1mDVUploader\u001b[0m ─────────────╮\n",
       "│ Server: \u001b[1mhttps://demo.dataverse.org/\u001b[0m │\n",
       "│ PID: \u001b[1mdoi:10.70122/FK2/2ZNL2G\u001b[0m        │\n",
       "│ Files: 4                            │\n",
       "╰─────────────────────────────────────╯\n"
      ]
     },
     "metadata": {},
     "output_type": "display_data"
    },
    {
     "data": {
      "application/vnd.jupyter.widget-view+json": {
       "model_id": "238d70a9f9e04ce985bc64bf18b2728f",
       "version_major": 2,
       "version_minor": 0
      },
      "text/plain": [
       "Output()"
      ]
     },
     "metadata": {},
     "output_type": "display_data"
    },
    {
     "name": "stdout",
     "output_type": "stream",
     "text": [
      "\n",
      "\n"
     ]
    },
    {
     "data": {
      "text/html": [
       "<pre style=\"white-space:pre;overflow-x:auto;line-height:normal;font-family:Menlo,'DejaVu Sans Mono',consolas,'Courier New',monospace\"></pre>\n"
      ],
      "text/plain": []
     },
     "metadata": {},
     "output_type": "display_data"
    },
    {
     "data": {
      "text/html": [
       "<pre style=\"white-space:pre;overflow-x:auto;line-height:normal;font-family:Menlo,'DejaVu Sans Mono',consolas,'Courier New',monospace\">\n",
       "</pre>\n"
      ],
      "text/plain": [
       "\n"
      ]
     },
     "metadata": {},
     "output_type": "display_data"
    },
    {
     "name": "stdout",
     "output_type": "stream",
     "text": [
      "\n",
      "\n"
     ]
    },
    {
     "data": {
      "text/html": [
       "<pre style=\"white-space:pre;overflow-x:auto;line-height:normal;font-family:Menlo,'DejaVu Sans Mono',consolas,'Courier New',monospace\"><span style=\"color: #c0c0c0; text-decoration-color: #c0c0c0; font-weight: bold; font-style: italic\">🔎 Checking dataset files</span><span style=\"font-style: italic\">                  </span>\n",
       "┏━━━━━━━━━━━━━━━━━━━━━━━┳━━━━━━━━┳━━━━━━━━┓\n",
       "┃<span style=\"font-weight: bold\"> File                  </span>┃<span style=\"font-weight: bold\"> Status </span>┃<span style=\"font-weight: bold\"> Action </span>┃\n",
       "┡━━━━━━━━━━━━━━━━━━━━━━━╇━━━━━━━━╇━━━━━━━━┩\n",
       "│<span style=\"color: #008080; text-decoration-color: #008080\"> different_name.json   </span>│ <span style=\"color: #00d75f; text-decoration-color: #00d75f\">New</span>    │ <span style=\"color: #00d75f; text-decoration-color: #00d75f\">Upload</span> │\n",
       "│<span style=\"color: #008080; text-decoration-color: #008080\"> README.md             </span>│ <span style=\"color: #00d75f; text-decoration-color: #00d75f\">New</span>    │ <span style=\"color: #00d75f; text-decoration-color: #00d75f\">Upload</span> │\n",
       "│<span style=\"color: #008080; text-decoration-color: #008080\"> mnist_train_small.csv </span>│ <span style=\"color: #00d75f; text-decoration-color: #00d75f\">New</span>    │ <span style=\"color: #00d75f; text-decoration-color: #00d75f\">Upload</span> │\n",
       "│<span style=\"color: #008080; text-decoration-color: #008080\"> mnist_test.csv        </span>│ <span style=\"color: #00d75f; text-decoration-color: #00d75f\">New</span>    │ <span style=\"color: #00d75f; text-decoration-color: #00d75f\">Upload</span> │\n",
       "└───────────────────────┴────────┴────────┘\n",
       "</pre>\n"
      ],
      "text/plain": [
       "\u001b[1;3;37m🔎 Checking dataset files\u001b[0m\u001b[3m                  \u001b[0m\n",
       "┏━━━━━━━━━━━━━━━━━━━━━━━┳━━━━━━━━┳━━━━━━━━┓\n",
       "┃\u001b[1m \u001b[0m\u001b[1mFile                 \u001b[0m\u001b[1m \u001b[0m┃\u001b[1m \u001b[0m\u001b[1mStatus\u001b[0m\u001b[1m \u001b[0m┃\u001b[1m \u001b[0m\u001b[1mAction\u001b[0m\u001b[1m \u001b[0m┃\n",
       "┡━━━━━━━━━━━━━━━━━━━━━━━╇━━━━━━━━╇━━━━━━━━┩\n",
       "│\u001b[36m \u001b[0m\u001b[36mdifferent_name.json  \u001b[0m\u001b[36m \u001b[0m│ \u001b[38;5;41mNew\u001b[0m    │ \u001b[38;5;41mUpload\u001b[0m │\n",
       "│\u001b[36m \u001b[0m\u001b[36mREADME.md            \u001b[0m\u001b[36m \u001b[0m│ \u001b[38;5;41mNew\u001b[0m    │ \u001b[38;5;41mUpload\u001b[0m │\n",
       "│\u001b[36m \u001b[0m\u001b[36mmnist_train_small.csv\u001b[0m\u001b[36m \u001b[0m│ \u001b[38;5;41mNew\u001b[0m    │ \u001b[38;5;41mUpload\u001b[0m │\n",
       "│\u001b[36m \u001b[0m\u001b[36mmnist_test.csv       \u001b[0m\u001b[36m \u001b[0m│ \u001b[38;5;41mNew\u001b[0m    │ \u001b[38;5;41mUpload\u001b[0m │\n",
       "└───────────────────────┴────────┴────────┘\n"
      ]
     },
     "metadata": {},
     "output_type": "display_data"
    },
    {
     "data": {
      "text/html": [
       "<pre style=\"white-space:pre;overflow-x:auto;line-height:normal;font-family:Menlo,'DejaVu Sans Mono',consolas,'Courier New',monospace\">\n",
       "<span style=\"color: #c0c0c0; text-decoration-color: #c0c0c0; font-weight: bold; font-style: italic\">🚀 Uploading files</span>\n",
       "\n",
       "</pre>\n"
      ],
      "text/plain": [
       "\n",
       "\u001b[1;3;37m🚀 Uploading files\u001b[0m\n",
       "\n"
      ]
     },
     "metadata": {},
     "output_type": "display_data"
    },
    {
     "data": {
      "application/vnd.jupyter.widget-view+json": {
       "model_id": "db0ed11370ed4ed897d23d9ce1695994",
       "version_major": 2,
       "version_minor": 0
      },
      "text/plain": [
       "Output()"
      ]
     },
     "metadata": {},
     "output_type": "display_data"
    },
    {
     "data": {
      "text/html": [
       "<pre style=\"white-space:pre;overflow-x:auto;line-height:normal;font-family:Menlo,'DejaVu Sans Mono',consolas,'Courier New',monospace\"></pre>\n"
      ],
      "text/plain": []
     },
     "metadata": {},
     "output_type": "display_data"
    },
    {
     "data": {
      "text/html": [
       "<pre style=\"white-space:pre;overflow-x:auto;line-height:normal;font-family:Menlo,'DejaVu Sans Mono',consolas,'Courier New',monospace\">\n",
       "</pre>\n"
      ],
      "text/plain": [
       "\n"
      ]
     },
     "metadata": {},
     "output_type": "display_data"
    },
    {
     "data": {
      "text/html": [
       "<pre style=\"white-space:pre;overflow-x:auto;line-height:normal;font-family:Menlo,'DejaVu Sans Mono',consolas,'Courier New',monospace\">\n",
       "<span style=\"color: #c0c0c0; text-decoration-color: #c0c0c0; font-weight: bold; font-style: italic\">✅ Upload complete</span>\n",
       "\n",
       "</pre>\n"
      ],
      "text/plain": [
       "\n",
       "\u001b[1;3;37m✅ Upload complete\u001b[0m\n",
       "\n"
      ]
     },
     "metadata": {},
     "output_type": "display_data"
    }
   ],
   "source": [
    "pid = dataset.upload(dataverse_name=\"ed_test\", n_parallel=4)"
   ]
  },
  {
   "cell_type": "markdown",
   "metadata": {},
   "source": [
    "---"
   ]
  },
  {
   "cell_type": "markdown",
   "metadata": {},
   "source": [
    "## Fetching and updating datasets\n",
    "\n",
    "To fetch datasets, you can use the `load_dataset` method of a connected `Dataverse` instance. However, you must provide the persistent identifier (such as a DOI) of the dataset for this to work. Once you have provided the identifier, the method will automatically download all files of the dataset and restore the metadata block objects, just like the previous dataset we have created."
   ]
  },
  {
   "cell_type": "code",
   "execution_count": 72,
   "metadata": {
    "colab": {
     "base_uri": "https://localhost:8080/",
     "height": 648,
     "referenced_widgets": [
      "e8784b03a1004a83ad389c5220818a80",
      "1d220a5afb2e4db989c003752a0da948"
     ]
    },
    "id": "7cnXksmmwHO7",
    "outputId": "667c228f-fa15-41ab-8904-92f3d33bea23",
    "tags": []
   },
   "outputs": [
    {
     "data": {
      "text/html": [
       "<pre style=\"white-space:pre;overflow-x:auto;line-height:normal;font-family:Menlo,'DejaVu Sans Mono',consolas,'Courier New',monospace\"><span style=\"font-weight: bold\">Fetching dataset </span><span style=\"color: #008000; text-decoration-color: #008000; font-weight: bold\">'doi:10.70122/FK2/2ZNL2G'</span><span style=\"font-weight: bold\"> from </span><span style=\"color: #008000; text-decoration-color: #008000; font-weight: bold\">'https://demo.dataverse.org/'</span>\n",
       "\n",
       "</pre>\n"
      ],
      "text/plain": [
       "\u001b[1mFetching dataset \u001b[0m\u001b[1;32m'doi:10.70122/FK2/2ZNL2G'\u001b[0m\u001b[1m from \u001b[0m\u001b[1;32m'https://demo.dataverse.org/'\u001b[0m\n",
       "\n"
      ]
     },
     "metadata": {},
     "output_type": "display_data"
    },
    {
     "data": {
      "text/html": [
       "<pre style=\"white-space:pre;overflow-x:auto;line-height:normal;font-family:Menlo,'DejaVu Sans Mono',consolas,'Courier New',monospace\">╭─ <span style=\"font-weight: bold\">Dataset Information</span> ─╮\n",
       "│ Title: <span style=\"font-weight: bold\">My Dataset</span>     │\n",
       "│ Version: latest       │\n",
       "│ Files: 4              │\n",
       "╰───────────────────────╯\n",
       "</pre>\n"
      ],
      "text/plain": [
       "╭─ \u001b[1mDataset Information\u001b[0m ─╮\n",
       "│ Title: \u001b[1mMy Dataset\u001b[0m     │\n",
       "│ Version: latest       │\n",
       "│ Files: 4              │\n",
       "╰───────────────────────╯\n"
      ]
     },
     "metadata": {},
     "output_type": "display_data"
    },
    {
     "data": {
      "application/vnd.jupyter.widget-view+json": {
       "model_id": "1ca5f7dcde134c1d93b2f3e1f0e47b73",
       "version_major": 2,
       "version_minor": 0
      },
      "text/plain": [
       "Output()"
      ]
     },
     "metadata": {},
     "output_type": "display_data"
    },
    {
     "data": {
      "text/html": [
       "<pre style=\"white-space:pre;overflow-x:auto;line-height:normal;font-family:Menlo,'DejaVu Sans Mono',consolas,'Courier New',monospace\">\n",
       "<span style=\"font-weight: bold\">Downloading files</span>\n",
       "\n",
       "</pre>\n"
      ],
      "text/plain": [
       "\n",
       "\u001b[1mDownloading files\u001b[0m\n",
       "\n"
      ]
     },
     "metadata": {},
     "output_type": "display_data"
    },
    {
     "data": {
      "text/html": [
       "<pre style=\"white-space:pre;overflow-x:auto;line-height:normal;font-family:Menlo,'DejaVu Sans Mono',consolas,'Courier New',monospace\"></pre>\n"
      ],
      "text/plain": []
     },
     "metadata": {},
     "output_type": "display_data"
    },
    {
     "data": {
      "text/html": [
       "<pre style=\"white-space:pre;overflow-x:auto;line-height:normal;font-family:Menlo,'DejaVu Sans Mono',consolas,'Courier New',monospace\">\n",
       "</pre>\n"
      ],
      "text/plain": [
       "\n"
      ]
     },
     "metadata": {},
     "output_type": "display_data"
    },
    {
     "data": {
      "text/html": [
       "<pre style=\"white-space:pre;overflow-x:auto;line-height:normal;font-family:Menlo,'DejaVu Sans Mono',consolas,'Courier New',monospace\">╰── <span style=\"font-weight: bold\">✅ Done </span>\n",
       "\n",
       "</pre>\n"
      ],
      "text/plain": [
       "╰── \u001b[1m✅ Done \u001b[0m\n",
       "\n"
      ]
     },
     "metadata": {},
     "output_type": "display_data"
    },
    {
     "name": "stdout",
     "output_type": "stream",
     "text": [
      "metadatablocks:\n",
      "  geospatial:\n",
      "    geographicUnit:\n",
      "      - unit\n",
      "    geographicCoverage:\n",
      "      - country: Germany\n",
      "        state: BW\n",
      "        city: Stuttgart\n",
      "  citation:\n",
      "    title: My Dataset\n",
      "    subject:\n",
      "      - Other\n",
      "    author:\n",
      "      - authorName: John Doe\n",
      "    datasetContact:\n",
      "      - datasetContactName: John Doe\n",
      "        datasetContactEmail: john@doe.com\n",
      "    dsDescription:\n",
      "      - dsDescriptionValue: This is a description\n",
      "dataset_id: doi:10.70122/FK2/2ZNL2G\n",
      "\n"
     ]
    }
   ],
   "source": [
    "dataset = dataverse.load_dataset(pid)\n",
    "\n",
    "print(dataset)"
   ]
  },
  {
   "cell_type": "markdown",
   "metadata": {},
   "source": [
    "### Updating a dataset\n",
    "\n",
    "After you have fetched a dataset and you want to edit it, you can simply edit the metadata and/or add files to the dataset. The files Once you have retrieved a dataset and wish to make changes to it, you can easily modify the metadata or append additional files to the dataset. Additionally, you can alter the existing files that were downloaded during the initial retrieval process. The uploader will detect any changes you make and prompt a replacement upload. However, if a file remains unchanged, it will not be uploaded again."
   ]
  },
  {
   "cell_type": "code",
   "execution_count": 73,
   "metadata": {
    "colab": {
     "base_uri": "https://localhost:8080/",
     "height": 524,
     "referenced_widgets": [
      "c48056a6856c4fbbb7dcd2d67e875041",
      "0237ed4eac8247f0a9e8f0f3c597a439",
      "f906566e59474277a92c0ba1a4b95487",
      "a4c370c9bf3743e0a88f4a2410142912"
     ]
    },
    "id": "8NQKSE7pxlUc",
    "outputId": "22dba911-5d5d-4768-d000-f66da405b659",
    "tags": []
   },
   "outputs": [
    {
     "name": "stdout",
     "output_type": "stream",
     "text": [
      "\n",
      "\n"
     ]
    },
    {
     "data": {
      "text/html": [
       "<pre style=\"white-space:pre;overflow-x:auto;line-height:normal;font-family:Menlo,'DejaVu Sans Mono',consolas,'Courier New',monospace\">╭──────────── <span style=\"font-weight: bold\">DVUploader</span> ─────────────╮\n",
       "│ Server: <span style=\"font-weight: bold\">https://demo.dataverse.org/</span> │\n",
       "│ PID: <span style=\"font-weight: bold\">doi:10.70122/FK2/2ZNL2G</span>        │\n",
       "│ Files: 4                            │\n",
       "╰─────────────────────────────────────╯\n",
       "</pre>\n"
      ],
      "text/plain": [
       "╭──────────── \u001b[1mDVUploader\u001b[0m ─────────────╮\n",
       "│ Server: \u001b[1mhttps://demo.dataverse.org/\u001b[0m │\n",
       "│ PID: \u001b[1mdoi:10.70122/FK2/2ZNL2G\u001b[0m        │\n",
       "│ Files: 4                            │\n",
       "╰─────────────────────────────────────╯\n"
      ]
     },
     "metadata": {},
     "output_type": "display_data"
    },
    {
     "data": {
      "application/vnd.jupyter.widget-view+json": {
       "model_id": "b5d8d67b558444609b09a31a11fe1224",
       "version_major": 2,
       "version_minor": 0
      },
      "text/plain": [
       "Output()"
      ]
     },
     "metadata": {},
     "output_type": "display_data"
    },
    {
     "name": "stdout",
     "output_type": "stream",
     "text": [
      "\n",
      "\n"
     ]
    },
    {
     "data": {
      "text/html": [
       "<pre style=\"white-space:pre;overflow-x:auto;line-height:normal;font-family:Menlo,'DejaVu Sans Mono',consolas,'Courier New',monospace\"></pre>\n"
      ],
      "text/plain": []
     },
     "metadata": {},
     "output_type": "display_data"
    },
    {
     "data": {
      "text/html": [
       "<pre style=\"white-space:pre;overflow-x:auto;line-height:normal;font-family:Menlo,'DejaVu Sans Mono',consolas,'Courier New',monospace\">\n",
       "</pre>\n"
      ],
      "text/plain": [
       "\n"
      ]
     },
     "metadata": {},
     "output_type": "display_data"
    },
    {
     "name": "stdout",
     "output_type": "stream",
     "text": [
      "\n",
      "\n"
     ]
    },
    {
     "data": {
      "text/html": [
       "<pre style=\"white-space:pre;overflow-x:auto;line-height:normal;font-family:Menlo,'DejaVu Sans Mono',consolas,'Courier New',monospace\"><span style=\"color: #c0c0c0; text-decoration-color: #c0c0c0; font-weight: bold; font-style: italic\">🔎 Checking dataset files</span><span style=\"font-style: italic\">                     </span>\n",
       "┏━━━━━━━━━━━━━━━━━━━━━━━┳━━━━━━━━━━━┳━━━━━━━━┓\n",
       "┃<span style=\"font-weight: bold\"> File                  </span>┃<span style=\"font-weight: bold\"> Status    </span>┃<span style=\"font-weight: bold\"> Action </span>┃\n",
       "┡━━━━━━━━━━━━━━━━━━━━━━━╇━━━━━━━━━━━╇━━━━━━━━┩\n",
       "│<span style=\"color: #008080; text-decoration-color: #008080\"> README.md             </span>│ <span style=\"color: #808080; text-decoration-color: #808080\">Same hash</span> │ <span style=\"color: #808080; text-decoration-color: #808080\">Skip</span>   │\n",
       "│<span style=\"color: #008080; text-decoration-color: #008080\"> different_name.json   </span>│ <span style=\"color: #808080; text-decoration-color: #808080\">Same hash</span> │ <span style=\"color: #808080; text-decoration-color: #808080\">Skip</span>   │\n",
       "│<span style=\"color: #008080; text-decoration-color: #008080\"> mnist_test.csv        </span>│ <span style=\"color: #808080; text-decoration-color: #808080\">Same hash</span> │ <span style=\"color: #808080; text-decoration-color: #808080\">Skip</span>   │\n",
       "│<span style=\"color: #008080; text-decoration-color: #008080\"> mnist_train_small.csv </span>│ <span style=\"color: #808080; text-decoration-color: #808080\">Same hash</span> │ <span style=\"color: #808080; text-decoration-color: #808080\">Skip</span>   │\n",
       "└───────────────────────┴───────────┴────────┘\n",
       "</pre>\n"
      ],
      "text/plain": [
       "\u001b[1;3;37m🔎 Checking dataset files\u001b[0m\u001b[3m                     \u001b[0m\n",
       "┏━━━━━━━━━━━━━━━━━━━━━━━┳━━━━━━━━━━━┳━━━━━━━━┓\n",
       "┃\u001b[1m \u001b[0m\u001b[1mFile                 \u001b[0m\u001b[1m \u001b[0m┃\u001b[1m \u001b[0m\u001b[1mStatus   \u001b[0m\u001b[1m \u001b[0m┃\u001b[1m \u001b[0m\u001b[1mAction\u001b[0m\u001b[1m \u001b[0m┃\n",
       "┡━━━━━━━━━━━━━━━━━━━━━━━╇━━━━━━━━━━━╇━━━━━━━━┩\n",
       "│\u001b[36m \u001b[0m\u001b[36mREADME.md            \u001b[0m\u001b[36m \u001b[0m│ \u001b[90mSame hash\u001b[0m │ \u001b[90mSkip\u001b[0m   │\n",
       "│\u001b[36m \u001b[0m\u001b[36mdifferent_name.json  \u001b[0m\u001b[36m \u001b[0m│ \u001b[90mSame hash\u001b[0m │ \u001b[90mSkip\u001b[0m   │\n",
       "│\u001b[36m \u001b[0m\u001b[36mmnist_test.csv       \u001b[0m\u001b[36m \u001b[0m│ \u001b[90mSame hash\u001b[0m │ \u001b[90mSkip\u001b[0m   │\n",
       "│\u001b[36m \u001b[0m\u001b[36mmnist_train_small.csv\u001b[0m\u001b[36m \u001b[0m│ \u001b[90mSame hash\u001b[0m │ \u001b[90mSkip\u001b[0m   │\n",
       "└───────────────────────┴───────────┴────────┘\n"
      ]
     },
     "metadata": {},
     "output_type": "display_data"
    },
    {
     "data": {
      "text/html": [
       "<pre style=\"white-space:pre;overflow-x:auto;line-height:normal;font-family:Menlo,'DejaVu Sans Mono',consolas,'Courier New',monospace\">\n",
       "<span style=\"color: #c0c0c0; text-decoration-color: #c0c0c0; font-weight: bold; font-style: italic\">❌ No files to upload</span>\n",
       "\n",
       "</pre>\n"
      ],
      "text/plain": [
       "\n",
       "\u001b[1;3;37m❌ No files to upload\u001b[0m\n",
       "\n"
      ]
     },
     "metadata": {},
     "output_type": "display_data"
    }
   ],
   "source": [
    "dataset.citation.title = \"My updated dataset\"\n",
    "\n",
    "dataset.update()"
   ]
  }
 ],
 "metadata": {
  "colab": {
   "provenance": []
  },
  "kernelspec": {
   "display_name": "easydataverse",
   "language": "python",
   "name": "easydataverse"
  },
  "language_info": {
   "codemirror_mode": {
    "name": "ipython",
    "version": 3
   },
   "file_extension": ".py",
   "mimetype": "text/x-python",
   "name": "python",
   "nbconvert_exporter": "python",
   "pygments_lexer": "ipython3",
   "version": "3.11.9"
  },
  "widgets": {
   "application/vnd.jupyter.widget-state+json": {
    "0237ed4eac8247f0a9e8f0f3c597a439": {
     "model_module": "@jupyter-widgets/base",
     "model_module_version": "2.0.0",
     "model_name": "LayoutModel",
     "state": {
      "_model_module": "@jupyter-widgets/base",
      "_model_module_version": "2.0.0",
      "_model_name": "LayoutModel",
      "_view_count": null,
      "_view_module": "@jupyter-widgets/base",
      "_view_module_version": "2.0.0",
      "_view_name": "LayoutView",
      "align_content": null,
      "align_items": null,
      "align_self": null,
      "border_bottom": null,
      "border_left": null,
      "border_right": null,
      "border_top": null,
      "bottom": null,
      "display": null,
      "flex": null,
      "flex_flow": null,
      "grid_area": null,
      "grid_auto_columns": null,
      "grid_auto_flow": null,
      "grid_auto_rows": null,
      "grid_column": null,
      "grid_gap": null,
      "grid_row": null,
      "grid_template_areas": null,
      "grid_template_columns": null,
      "grid_template_rows": null,
      "height": null,
      "justify_content": null,
      "justify_items": null,
      "left": null,
      "margin": null,
      "max_height": null,
      "max_width": null,
      "min_height": null,
      "min_width": null,
      "object_fit": null,
      "object_position": null,
      "order": null,
      "overflow": null,
      "padding": null,
      "right": null,
      "top": null,
      "visibility": null,
      "width": null
     }
    },
    "07d44e00e028407280d9f0b294f2052d": {
     "model_module": "@jupyter-widgets/output",
     "model_module_version": "1.0.0",
     "model_name": "OutputModel",
     "state": {
      "_dom_classes": [],
      "_model_module": "@jupyter-widgets/output",
      "_model_module_version": "1.0.0",
      "_model_name": "OutputModel",
      "_view_count": null,
      "_view_module": "@jupyter-widgets/output",
      "_view_module_version": "1.0.0",
      "_view_name": "OutputView",
      "layout": "IPY_MODEL_bb5e7f487b0c43508654a89bc7dba173",
      "msg_id": "",
      "outputs": [
       {
        "data": {
         "text/html": "<pre style=\"white-space:pre;overflow-x:auto;line-height:normal;font-family:Menlo,'DejaVu Sans Mono',consolas,'Courier New',monospace\"><span style=\"color: #008000; text-decoration-color: #008000\">⠹</span> Connecting to https://demo.dataverse.org/...\n</pre>\n",
         "text/plain": "\u001b[32m⠹\u001b[0m Connecting to https://demo.dataverse.org/...\n"
        },
        "metadata": {},
        "output_type": "display_data"
       }
      ],
      "tabbable": null,
      "tooltip": null
     }
    },
    "1d220a5afb2e4db989c003752a0da948": {
     "model_module": "@jupyter-widgets/base",
     "model_module_version": "2.0.0",
     "model_name": "LayoutModel",
     "state": {
      "_model_module": "@jupyter-widgets/base",
      "_model_module_version": "2.0.0",
      "_model_name": "LayoutModel",
      "_view_count": null,
      "_view_module": "@jupyter-widgets/base",
      "_view_module_version": "2.0.0",
      "_view_name": "LayoutView",
      "align_content": null,
      "align_items": null,
      "align_self": null,
      "border_bottom": null,
      "border_left": null,
      "border_right": null,
      "border_top": null,
      "bottom": null,
      "display": null,
      "flex": null,
      "flex_flow": null,
      "grid_area": null,
      "grid_auto_columns": null,
      "grid_auto_flow": null,
      "grid_auto_rows": null,
      "grid_column": null,
      "grid_gap": null,
      "grid_row": null,
      "grid_template_areas": null,
      "grid_template_columns": null,
      "grid_template_rows": null,
      "height": null,
      "justify_content": null,
      "justify_items": null,
      "left": null,
      "margin": null,
      "max_height": null,
      "max_width": null,
      "min_height": null,
      "min_width": null,
      "object_fit": null,
      "object_position": null,
      "order": null,
      "overflow": null,
      "padding": null,
      "right": null,
      "top": null,
      "visibility": null,
      "width": null
     }
    },
    "228bbf78edd04e1cb19c2f04e9fdf7f8": {
     "model_module": "@jupyter-widgets/base",
     "model_module_version": "2.0.0",
     "model_name": "LayoutModel",
     "state": {
      "_model_module": "@jupyter-widgets/base",
      "_model_module_version": "2.0.0",
      "_model_name": "LayoutModel",
      "_view_count": null,
      "_view_module": "@jupyter-widgets/base",
      "_view_module_version": "2.0.0",
      "_view_name": "LayoutView",
      "align_content": null,
      "align_items": null,
      "align_self": null,
      "border_bottom": null,
      "border_left": null,
      "border_right": null,
      "border_top": null,
      "bottom": null,
      "display": null,
      "flex": null,
      "flex_flow": null,
      "grid_area": null,
      "grid_auto_columns": null,
      "grid_auto_flow": null,
      "grid_auto_rows": null,
      "grid_column": null,
      "grid_gap": null,
      "grid_row": null,
      "grid_template_areas": null,
      "grid_template_columns": null,
      "grid_template_rows": null,
      "height": null,
      "justify_content": null,
      "justify_items": null,
      "left": null,
      "margin": null,
      "max_height": null,
      "max_width": null,
      "min_height": null,
      "min_width": null,
      "object_fit": null,
      "object_position": null,
      "order": null,
      "overflow": null,
      "padding": null,
      "right": null,
      "top": null,
      "visibility": null,
      "width": null
     }
    },
    "8484a9b7f46747f0af0315d2e0ec02d2": {
     "model_module": "@jupyter-widgets/output",
     "model_module_version": "1.0.0",
     "model_name": "OutputModel",
     "state": {
      "_dom_classes": [],
      "_model_module": "@jupyter-widgets/output",
      "_model_module_version": "1.0.0",
      "_model_name": "OutputModel",
      "_view_count": null,
      "_view_module": "@jupyter-widgets/output",
      "_view_module_version": "1.0.0",
      "_view_name": "OutputView",
      "layout": "IPY_MODEL_df4708b6eff5423382ab4ea8d52fe3d4",
      "msg_id": "",
      "outputs": [
       {
        "data": {
         "text/html": "<pre style=\"white-space:pre;overflow-x:auto;line-height:normal;font-family:Menlo,'DejaVu Sans Mono',consolas,'Courier New',monospace\">                    <span style=\"color: #f92672; text-decoration-color: #f92672\">━━━━━━━━━━━━━━━━━━━━━━━━━━╸</span><span style=\"color: #3a3a3a; text-decoration-color: #3a3a3a\">━━━━━━━━━━━━━</span> <span style=\"color: #800080; text-decoration-color: #800080\"> 67%</span> <span style=\"color: #008080; text-decoration-color: #008080\">0:00:01</span>\n<span style=\"color: #c0c0c0; text-decoration-color: #c0c0c0; font-weight: bold; font-style: italic\">📦 Preparing upload</span>                                                      \n</pre>\n",
         "text/plain": "                    \u001b[38;2;249;38;114m━━━━━━━━━━━━━━━━━━━━━━━━━━\u001b[0m\u001b[38;2;249;38;114m╸\u001b[0m\u001b[38;5;237m━━━━━━━━━━━━━\u001b[0m \u001b[35m 67%\u001b[0m \u001b[36m0:00:01\u001b[0m\n\u001b[1;3;37m📦 Preparing upload\u001b[0m                                                      \n"
        },
        "metadata": {},
        "output_type": "display_data"
       }
      ],
      "tabbable": null,
      "tooltip": null
     }
    },
    "a4c370c9bf3743e0a88f4a2410142912": {
     "model_module": "@jupyter-widgets/base",
     "model_module_version": "2.0.0",
     "model_name": "LayoutModel",
     "state": {
      "_model_module": "@jupyter-widgets/base",
      "_model_module_version": "2.0.0",
      "_model_name": "LayoutModel",
      "_view_count": null,
      "_view_module": "@jupyter-widgets/base",
      "_view_module_version": "2.0.0",
      "_view_name": "LayoutView",
      "align_content": null,
      "align_items": null,
      "align_self": null,
      "border_bottom": null,
      "border_left": null,
      "border_right": null,
      "border_top": null,
      "bottom": null,
      "display": null,
      "flex": null,
      "flex_flow": null,
      "grid_area": null,
      "grid_auto_columns": null,
      "grid_auto_flow": null,
      "grid_auto_rows": null,
      "grid_column": null,
      "grid_gap": null,
      "grid_row": null,
      "grid_template_areas": null,
      "grid_template_columns": null,
      "grid_template_rows": null,
      "height": null,
      "justify_content": null,
      "justify_items": null,
      "left": null,
      "margin": null,
      "max_height": null,
      "max_width": null,
      "min_height": null,
      "min_width": null,
      "object_fit": null,
      "object_position": null,
      "order": null,
      "overflow": null,
      "padding": null,
      "right": null,
      "top": null,
      "visibility": null,
      "width": null
     }
    },
    "bb5e7f487b0c43508654a89bc7dba173": {
     "model_module": "@jupyter-widgets/base",
     "model_module_version": "2.0.0",
     "model_name": "LayoutModel",
     "state": {
      "_model_module": "@jupyter-widgets/base",
      "_model_module_version": "2.0.0",
      "_model_name": "LayoutModel",
      "_view_count": null,
      "_view_module": "@jupyter-widgets/base",
      "_view_module_version": "2.0.0",
      "_view_name": "LayoutView",
      "align_content": null,
      "align_items": null,
      "align_self": null,
      "border_bottom": null,
      "border_left": null,
      "border_right": null,
      "border_top": null,
      "bottom": null,
      "display": null,
      "flex": null,
      "flex_flow": null,
      "grid_area": null,
      "grid_auto_columns": null,
      "grid_auto_flow": null,
      "grid_auto_rows": null,
      "grid_column": null,
      "grid_gap": null,
      "grid_row": null,
      "grid_template_areas": null,
      "grid_template_columns": null,
      "grid_template_rows": null,
      "height": null,
      "justify_content": null,
      "justify_items": null,
      "left": null,
      "margin": null,
      "max_height": null,
      "max_width": null,
      "min_height": null,
      "min_width": null,
      "object_fit": null,
      "object_position": null,
      "order": null,
      "overflow": null,
      "padding": null,
      "right": null,
      "top": null,
      "visibility": null,
      "width": null
     }
    },
    "c48056a6856c4fbbb7dcd2d67e875041": {
     "model_module": "@jupyter-widgets/output",
     "model_module_version": "1.0.0",
     "model_name": "OutputModel",
     "state": {
      "_dom_classes": [],
      "_model_module": "@jupyter-widgets/output",
      "_model_module_version": "1.0.0",
      "_model_name": "OutputModel",
      "_view_count": null,
      "_view_module": "@jupyter-widgets/output",
      "_view_module_version": "1.0.0",
      "_view_name": "OutputView",
      "layout": "IPY_MODEL_0237ed4eac8247f0a9e8f0f3c597a439",
      "msg_id": "",
      "outputs": [
       {
        "data": {
         "text/html": "<pre style=\"white-space:pre;overflow-x:auto;line-height:normal;font-family:Menlo,'DejaVu Sans Mono',consolas,'Courier New',monospace\">                    <span style=\"color: #f92672; text-decoration-color: #f92672\">━━━━━━━━━━━━━━━━━━━━━━━━━━━━━━━━━</span><span style=\"color: #3a3a3a; text-decoration-color: #3a3a3a\">╺━━━━━━</span> <span style=\"color: #800080; text-decoration-color: #800080\"> 83%</span> <span style=\"color: #008080; text-decoration-color: #008080\">0:00:01</span>\n<span style=\"color: #c0c0c0; text-decoration-color: #c0c0c0; font-weight: bold; font-style: italic\">📦 Preparing upload</span>                                                      \n</pre>\n",
         "text/plain": "                    \u001b[38;2;249;38;114m━━━━━━━━━━━━━━━━━━━━━━━━━━━━━━━━━\u001b[0m\u001b[38;5;237m╺\u001b[0m\u001b[38;5;237m━━━━━━\u001b[0m \u001b[35m 83%\u001b[0m \u001b[36m0:00:01\u001b[0m\n\u001b[1;3;37m📦 Preparing upload\u001b[0m                                                      \n"
        },
        "metadata": {},
        "output_type": "display_data"
       }
      ],
      "tabbable": null,
      "tooltip": null
     }
    },
    "df4708b6eff5423382ab4ea8d52fe3d4": {
     "model_module": "@jupyter-widgets/base",
     "model_module_version": "2.0.0",
     "model_name": "LayoutModel",
     "state": {
      "_model_module": "@jupyter-widgets/base",
      "_model_module_version": "2.0.0",
      "_model_name": "LayoutModel",
      "_view_count": null,
      "_view_module": "@jupyter-widgets/base",
      "_view_module_version": "2.0.0",
      "_view_name": "LayoutView",
      "align_content": null,
      "align_items": null,
      "align_self": null,
      "border_bottom": null,
      "border_left": null,
      "border_right": null,
      "border_top": null,
      "bottom": null,
      "display": null,
      "flex": null,
      "flex_flow": null,
      "grid_area": null,
      "grid_auto_columns": null,
      "grid_auto_flow": null,
      "grid_auto_rows": null,
      "grid_column": null,
      "grid_gap": null,
      "grid_row": null,
      "grid_template_areas": null,
      "grid_template_columns": null,
      "grid_template_rows": null,
      "height": null,
      "justify_content": null,
      "justify_items": null,
      "left": null,
      "margin": null,
      "max_height": null,
      "max_width": null,
      "min_height": null,
      "min_width": null,
      "object_fit": null,
      "object_position": null,
      "order": null,
      "overflow": null,
      "padding": null,
      "right": null,
      "top": null,
      "visibility": null,
      "width": null
     }
    },
    "e8784b03a1004a83ad389c5220818a80": {
     "model_module": "@jupyter-widgets/output",
     "model_module_version": "1.0.0",
     "model_name": "OutputModel",
     "state": {
      "_dom_classes": [],
      "_model_module": "@jupyter-widgets/output",
      "_model_module_version": "1.0.0",
      "_model_name": "OutputModel",
      "_view_count": null,
      "_view_module": "@jupyter-widgets/output",
      "_view_module_version": "1.0.0",
      "_view_name": "OutputView",
      "layout": "IPY_MODEL_1d220a5afb2e4db989c003752a0da948",
      "msg_id": "",
      "outputs": [
       {
        "data": {
         "text/html": "<pre style=\"white-space:pre;overflow-x:auto;line-height:normal;font-family:Menlo,'DejaVu Sans Mono',consolas,'Courier New',monospace\">  README.md                        <span style=\"color: #729c1f; text-decoration-color: #729c1f\">━━━━━━━━━━━━━━━━━━━━━━━━━━━━━━━━━━━━━━━━</span> <span style=\"color: #800080; text-decoration-color: #800080\">100%</span> <span style=\"color: #008080; text-decoration-color: #008080\">0:00:00</span>\n  some/sub/dir/different_name.json <span style=\"color: #729c1f; text-decoration-color: #729c1f\">━━━━━━━━━━━━━━━━━━━━━━━━━━━━━━━━━━━━━━━━</span> <span style=\"color: #800080; text-decoration-color: #800080\">100%</span> <span style=\"color: #008080; text-decoration-color: #008080\">0:00:00</span>\n  california_housing_test.tab      <span style=\"color: #729c1f; text-decoration-color: #729c1f\">━━━━━━━━━━━━━━━━━━━━━━━━━━━━━━━━━━━━━━━━</span> <span style=\"color: #800080; text-decoration-color: #800080\">100%</span> <span style=\"color: #008080; text-decoration-color: #008080\">0:00:00</span>\n  california_housing_train.csv     <span style=\"color: #729c1f; text-decoration-color: #729c1f\">━━━━━━━━━━━━━━━━━━━━━━━━━━━━━━━━━━━━━━━━</span> <span style=\"color: #800080; text-decoration-color: #800080\">100%</span> <span style=\"color: #008080; text-decoration-color: #008080\">0:00:00</span>\n  mnist_test.csv                   <span style=\"color: #729c1f; text-decoration-color: #729c1f\">━━━━━━━━━━━━━━━━━━━━━━━━━━━━━━━━━━━━━━━━</span> <span style=\"color: #800080; text-decoration-color: #800080\">100%</span> <span style=\"color: #008080; text-decoration-color: #008080\">0:00:00</span>\n  mnist_train_small.csv            <span style=\"color: #f92672; text-decoration-color: #f92672\">━━━━━━━━━━━━━━━━━━━━━━━━━━━━━━</span><span style=\"color: #3a3a3a; text-decoration-color: #3a3a3a\">╺━━━━━━━━━</span> <span style=\"color: #800080; text-decoration-color: #800080\"> 76%</span> <span style=\"color: #008080; text-decoration-color: #008080\">0:00:01</span>\n</pre>\n",
         "text/plain": "  README.md                        \u001b[38;2;114;156;31m━━━━━━━━━━━━━━━━━━━━━━━━━━━━━━━━━━━━━━━━\u001b[0m \u001b[35m100%\u001b[0m \u001b[36m0:00:00\u001b[0m\n  some/sub/dir/different_name.json \u001b[38;2;114;156;31m━━━━━━━━━━━━━━━━━━━━━━━━━━━━━━━━━━━━━━━━\u001b[0m \u001b[35m100%\u001b[0m \u001b[36m0:00:00\u001b[0m\n  california_housing_test.tab      \u001b[38;2;114;156;31m━━━━━━━━━━━━━━━━━━━━━━━━━━━━━━━━━━━━━━━━\u001b[0m \u001b[35m100%\u001b[0m \u001b[36m0:00:00\u001b[0m\n  california_housing_train.csv     \u001b[38;2;114;156;31m━━━━━━━━━━━━━━━━━━━━━━━━━━━━━━━━━━━━━━━━\u001b[0m \u001b[35m100%\u001b[0m \u001b[36m0:00:00\u001b[0m\n  mnist_test.csv                   \u001b[38;2;114;156;31m━━━━━━━━━━━━━━━━━━━━━━━━━━━━━━━━━━━━━━━━\u001b[0m \u001b[35m100%\u001b[0m \u001b[36m0:00:00\u001b[0m\n  mnist_train_small.csv            \u001b[38;2;249;38;114m━━━━━━━━━━━━━━━━━━━━━━━━━━━━━━\u001b[0m\u001b[38;5;237m╺\u001b[0m\u001b[38;5;237m━━━━━━━━━\u001b[0m \u001b[35m 76%\u001b[0m \u001b[36m0:00:01\u001b[0m\n"
        },
        "metadata": {},
        "output_type": "display_data"
       }
      ],
      "tabbable": null,
      "tooltip": null
     }
    },
    "f2f63499962441c88d5025a5c7cb6c8b": {
     "model_module": "@jupyter-widgets/output",
     "model_module_version": "1.0.0",
     "model_name": "OutputModel",
     "state": {
      "_dom_classes": [],
      "_model_module": "@jupyter-widgets/output",
      "_model_module_version": "1.0.0",
      "_model_name": "OutputModel",
      "_view_count": null,
      "_view_module": "@jupyter-widgets/output",
      "_view_module_version": "1.0.0",
      "_view_name": "OutputView",
      "layout": "IPY_MODEL_228bbf78edd04e1cb19c2f04e9fdf7f8",
      "msg_id": "",
      "outputs": [
       {
        "data": {
         "text/html": "<pre style=\"white-space:pre;overflow-x:auto;line-height:normal;font-family:Menlo,'DejaVu Sans Mono',consolas,'Courier New',monospace\">├── README.md                    <span style=\"color: #729c1f; text-decoration-color: #729c1f\">━━━━━━━━━━━━━━━━━━━━━━━━━━━━━━━━━━━━━━━━</span> <span style=\"color: #800080; text-decoration-color: #800080\">100%</span> <span style=\"color: #008080; text-decoration-color: #008080\">0:00:00</span>\n├── different_name.json          <span style=\"color: #729c1f; text-decoration-color: #729c1f\">━━━━━━━━━━━━━━━━━━━━━━━━━━━━━━━━━━━━━━━━</span> <span style=\"color: #800080; text-decoration-color: #800080\">100%</span> <span style=\"color: #008080; text-decoration-color: #008080\">0:00:00</span>\n├── california_housing_test.csv  <span style=\"color: #729c1f; text-decoration-color: #729c1f\">━━━━━━━━━━━━━━━━━━━━━━━━━━━━━━━━━━━━━━━━</span> <span style=\"color: #800080; text-decoration-color: #800080\">100%</span> <span style=\"color: #008080; text-decoration-color: #008080\">0:00:00</span>\n├── california_housing_train.csv <span style=\"color: #729c1f; text-decoration-color: #729c1f\">━━━━━━━━━━━━━━━━━━━━━━━━━━━━━━━━━━━━━━━━</span> <span style=\"color: #800080; text-decoration-color: #800080\">100%</span> <span style=\"color: #008080; text-decoration-color: #008080\">0:00:00</span>\n├── mnist_test.csv               <span style=\"color: #729c1f; text-decoration-color: #729c1f\">━━━━━━━━━━━━━━━━━━━━━━━━━━━━━━━━━━━━━━━━</span> <span style=\"color: #800080; text-decoration-color: #800080\">100%</span> <span style=\"color: #008080; text-decoration-color: #008080\">0:00:00</span>\n├── mnist_train_small.csv        <span style=\"color: #729c1f; text-decoration-color: #729c1f\">━━━━━━━━━━━━━━━━━━━━━━━━━━━━━━━━━━━━━━━━</span> <span style=\"color: #800080; text-decoration-color: #800080\">100%</span> <span style=\"color: #008080; text-decoration-color: #008080\">0:00:00</span>\n╰── <span style=\"color: #c0c0c0; text-decoration-color: #c0c0c0; font-weight: bold\">Registering files</span>            <span style=\"color: #3a3a3a; text-decoration-color: #3a3a3a\">━━━━━━━━━━━━━━━━━━━━━━━━━━━━━━━━━━━━━━━━</span> <span style=\"color: #800080; text-decoration-color: #800080\">  0%</span> <span style=\"color: #008080; text-decoration-color: #008080\">-:--:--</span>\n</pre>\n",
         "text/plain": "├── README.md                    \u001b[38;2;114;156;31m━━━━━━━━━━━━━━━━━━━━━━━━━━━━━━━━━━━━━━━━\u001b[0m \u001b[35m100%\u001b[0m \u001b[36m0:00:00\u001b[0m\n├── different_name.json          \u001b[38;2;114;156;31m━━━━━━━━━━━━━━━━━━━━━━━━━━━━━━━━━━━━━━━━\u001b[0m \u001b[35m100%\u001b[0m \u001b[36m0:00:00\u001b[0m\n├── california_housing_test.csv  \u001b[38;2;114;156;31m━━━━━━━━━━━━━━━━━━━━━━━━━━━━━━━━━━━━━━━━\u001b[0m \u001b[35m100%\u001b[0m \u001b[36m0:00:00\u001b[0m\n├── california_housing_train.csv \u001b[38;2;114;156;31m━━━━━━━━━━━━━━━━━━━━━━━━━━━━━━━━━━━━━━━━\u001b[0m \u001b[35m100%\u001b[0m \u001b[36m0:00:00\u001b[0m\n├── mnist_test.csv               \u001b[38;2;114;156;31m━━━━━━━━━━━━━━━━━━━━━━━━━━━━━━━━━━━━━━━━\u001b[0m \u001b[35m100%\u001b[0m \u001b[36m0:00:00\u001b[0m\n├── mnist_train_small.csv        \u001b[38;2;114;156;31m━━━━━━━━━━━━━━━━━━━━━━━━━━━━━━━━━━━━━━━━\u001b[0m \u001b[35m100%\u001b[0m \u001b[36m0:00:00\u001b[0m\n╰── \u001b[1;37mRegistering files\u001b[0m            \u001b[38;5;237m━━━━━━━━━━━━━━━━━━━━━━━━━━━━━━━━━━━━━━━━\u001b[0m \u001b[35m  0%\u001b[0m \u001b[36m-:--:--\u001b[0m\n"
        },
        "metadata": {},
        "output_type": "display_data"
       }
      ],
      "tabbable": null,
      "tooltip": null
     }
    },
    "f906566e59474277a92c0ba1a4b95487": {
     "model_module": "@jupyter-widgets/output",
     "model_module_version": "1.0.0",
     "model_name": "OutputModel",
     "state": {
      "_dom_classes": [],
      "_model_module": "@jupyter-widgets/output",
      "_model_module_version": "1.0.0",
      "_model_name": "OutputModel",
      "_view_count": null,
      "_view_module": "@jupyter-widgets/output",
      "_view_module_version": "1.0.0",
      "_view_name": "OutputView",
      "layout": "IPY_MODEL_a4c370c9bf3743e0a88f4a2410142912",
      "msg_id": "",
      "outputs": [
       {
        "data": {
         "text/html": "<pre style=\"white-space:pre;overflow-x:auto;line-height:normal;font-family:Menlo,'DejaVu Sans Mono',consolas,'Courier New',monospace\">├── california_housing_test.tab <span style=\"color: #729c1f; text-decoration-color: #729c1f\">━━━━━━━━━━━━━━━━━━━━━━━━━━━━━━━━━━━━━━━━</span> <span style=\"color: #800080; text-decoration-color: #800080\">100%</span> <span style=\"color: #008080; text-decoration-color: #008080\">0:00:00</span>\n╰── <span style=\"color: #c0c0c0; text-decoration-color: #c0c0c0; font-weight: bold\">Registering files</span>           <span style=\"color: #3a3a3a; text-decoration-color: #3a3a3a\">━━━━━━━━━━━━━━━━━━━━━━━━━━━━━━━━━━━━━━━━</span> <span style=\"color: #800080; text-decoration-color: #800080\">  0%</span> <span style=\"color: #008080; text-decoration-color: #008080\">-:--:--</span>\n</pre>\n",
         "text/plain": "├── california_housing_test.tab \u001b[38;2;114;156;31m━━━━━━━━━━━━━━━━━━━━━━━━━━━━━━━━━━━━━━━━\u001b[0m \u001b[35m100%\u001b[0m \u001b[36m0:00:00\u001b[0m\n╰── \u001b[1;37mRegistering files\u001b[0m           \u001b[38;5;237m━━━━━━━━━━━━━━━━━━━━━━━━━━━━━━━━━━━━━━━━\u001b[0m \u001b[35m  0%\u001b[0m \u001b[36m-:--:--\u001b[0m\n"
        },
        "metadata": {},
        "output_type": "display_data"
       }
      ],
      "tabbable": null,
      "tooltip": null
     }
    }
   }
  }
 },
 "nbformat": 4,
 "nbformat_minor": 4
}
